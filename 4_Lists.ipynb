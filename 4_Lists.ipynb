{
  "cells": [
    {
      "cell_type": "markdown",
      "metadata": {
        "id": "view-in-github",
        "colab_type": "text"
      },
      "source": [
        "<a href=\"https://colab.research.google.com/github/RYEONGRYEONG/Python/blob/main/4_Lists.ipynb\" target=\"_parent\"><img src=\"https://colab.research.google.com/assets/colab-badge.svg\" alt=\"Open In Colab\"/></a>"
      ]
    },
    {
      "cell_type": "code",
      "execution_count": null,
      "metadata": {
        "id": "hj4MSrYtO-k0"
      },
      "outputs": [],
      "source": [
        "# 리스트\n",
        "    # 리스트와 리스트로 할 수 있는 일. 인덱싱, 슬라이싱 및 변형 포함"
      ]
    },
    {
      "cell_type": "code",
      "execution_count": null,
      "metadata": {
        "id": "XUBgTFn6O-k4"
      },
      "outputs": [],
      "source": [
        "# 리스트\n",
        "\"\"\"\n",
        "Python의 목록은 정렬된 값 시퀀스를 나타냅니다.\n",
        "다음은 생성 방법의 예입니다.\n",
        "\"\"\"\n",
        "\n",
        "primes = [2, 3, 5, 7]"
      ]
    },
    {
      "cell_type": "code",
      "execution_count": null,
      "metadata": {
        "id": "1b3TD6ItO-k5"
      },
      "outputs": [],
      "source": [
        "\"\"\"\n",
        "다른 유형의 항목을 목록에 넣을 수 있습니다.\n",
        "\"\"\"\n",
        "\n",
        "planets = ['Mercury', 'Venus', 'Earth', 'Mars', 'Jupiter', 'Saturn', 'Uranus', 'Neptune']"
      ]
    },
    {
      "cell_type": "code",
      "execution_count": null,
      "metadata": {
        "id": "yqTsSdB-O-k6"
      },
      "outputs": [],
      "source": [
        "\"\"\"\n",
        "리스트의 리스트를 만들 수도 있습니다.\n",
        "\"\"\"\n",
        "\n",
        "hands = [\n",
        "    ['J', 'Q', 'K'],\n",
        "    ['2', '2', '2'],\n",
        "    ['6', 'A', 'K'], # (Comma after the last element is optional)\n",
        "]\n",
        "# (I could also have written this on one line, but it can get hard to read)\n",
        "hands = [['J', 'Q', 'K'], ['2', '2', '2'], ['6', 'A', 'K']]"
      ]
    },
    {
      "cell_type": "code",
      "execution_count": null,
      "metadata": {
        "id": "_PmFU8pbO-k8"
      },
      "outputs": [],
      "source": [
        "\"\"\"\n",
        "목록에는 다양한 유형의 변수가 혼합되어 포함될 수 있습니다.\n",
        "\"\"\"\n",
        "\n",
        "my_favourite_things = [32, 'raindrops on roses', help]\n",
        "# (Yes, Python's help function is *definitely* one of my favourite things)"
      ]
    },
    {
      "cell_type": "code",
      "execution_count": null,
      "metadata": {
        "colab": {
          "base_uri": "https://localhost:8080/",
          "height": 35
        },
        "id": "ZJdmU7JKO-k-",
        "outputId": "cdb13397-2294-4adb-83cd-a89062f7320f"
      },
      "outputs": [
        {
          "output_type": "execute_result",
          "data": {
            "text/plain": [
              "'Mercury'"
            ],
            "application/vnd.google.colaboratory.intrinsic+json": {
              "type": "string"
            }
          },
          "metadata": {},
          "execution_count": 97
        }
      ],
      "source": [
        "# 인덱싱\n",
        "\"\"\"\n",
        "대괄호를 사용하여 개별 목록 요소에 액세스할 수 있습니다.\n",
        "\n",
        "어느 행성이 태양에 가장 가깝습니까?\n",
        "Python은 0부터 시작하는 인덱싱을 사용하므로 첫 번째 요소의 인덱스는 0입니다.\n",
        "\"\"\"\n",
        "\n",
        "planets[0]"
      ]
    },
    {
      "cell_type": "code",
      "execution_count": null,
      "metadata": {
        "colab": {
          "base_uri": "https://localhost:8080/",
          "height": 35
        },
        "id": "1Fj40CAYO-lA",
        "outputId": "52a27c23-160c-4f78-8c05-12f7de68f3af"
      },
      "outputs": [
        {
          "output_type": "execute_result",
          "data": {
            "text/plain": [
              "'Venus'"
            ],
            "application/vnd.google.colaboratory.intrinsic+json": {
              "type": "string"
            }
          },
          "metadata": {},
          "execution_count": 98
        }
      ],
      "source": [
        "\"\"\"\n",
        "다음으로 가장 가까운 행성은 무엇입니까?\n",
        "\"\"\"\n",
        "\n",
        "planets[1]"
      ]
    },
    {
      "cell_type": "code",
      "execution_count": null,
      "metadata": {
        "colab": {
          "base_uri": "https://localhost:8080/",
          "height": 35
        },
        "id": "ZcXXlpnuO-lD",
        "outputId": "2fa586ed-a0ad-4762-c0cc-a7c436afb7fe"
      },
      "outputs": [
        {
          "output_type": "execute_result",
          "data": {
            "text/plain": [
              "'Neptune'"
            ],
            "application/vnd.google.colaboratory.intrinsic+json": {
              "type": "string"
            }
          },
          "metadata": {},
          "execution_count": 99
        }
      ],
      "source": [
        "\"\"\"\n",
        "어느 행성이 태양에서 가장 멀리 떨어져 있습니까?\n",
        "리스트 끝에 있는 요소는 -1부터 시작하는 음수로 액세스할 수 있습니다.\n",
        "\"\"\"\n",
        "\n",
        "planets[-1]"
      ]
    },
    {
      "cell_type": "code",
      "execution_count": null,
      "metadata": {
        "colab": {
          "base_uri": "https://localhost:8080/",
          "height": 35
        },
        "id": "PyxePhyJO-lE",
        "outputId": "dc49829b-2885-4f00-e8cb-e58a1e2b1478"
      },
      "outputs": [
        {
          "output_type": "execute_result",
          "data": {
            "text/plain": [
              "'Uranus'"
            ],
            "application/vnd.google.colaboratory.intrinsic+json": {
              "type": "string"
            }
          },
          "metadata": {},
          "execution_count": 100
        }
      ],
      "source": [
        "planets[-2]"
      ]
    },
    {
      "cell_type": "code",
      "execution_count": null,
      "metadata": {
        "colab": {
          "base_uri": "https://localhost:8080/"
        },
        "id": "752YFH0zO-lG",
        "outputId": "b88b23f3-08db-463c-bf55-469dfb1bbadd"
      },
      "outputs": [
        {
          "output_type": "execute_result",
          "data": {
            "text/plain": [
              "['Mercury', 'Venus', 'Earth']"
            ]
          },
          "metadata": {},
          "execution_count": 101
        }
      ],
      "source": [
        "# 슬라이싱\n",
        "\"\"\"\n",
        "처음 세 행성은 무엇입니까?\n",
        "슬라이싱을 사용하여 이 질문에 답할 수 있습니다.\n",
        "\"\"\"\n",
        "\n",
        "planets[0:3]"
      ]
    },
    {
      "cell_type": "code",
      "execution_count": null,
      "metadata": {
        "colab": {
          "base_uri": "https://localhost:8080/",
          "height": 35
        },
        "id": "C70BWWJJO-lH",
        "outputId": "c59ec7f7-1e6e-4a4b-bc72-d59268b4399d"
      },
      "outputs": [
        {
          "output_type": "execute_result",
          "data": {
            "text/plain": [
              "''"
            ],
            "application/vnd.google.colaboratory.intrinsic+json": {
              "type": "string"
            }
          },
          "metadata": {},
          "execution_count": 102
        }
      ],
      "source": [
        "\"\"\"\n",
        "planets[0:3]은 인덱스 0에서 시작하여 인덱스 3까지 계속되지만 행성의 요소를 요청하는 방식입니다.\n",
        "\"\"\"\n",
        "\"\"\"\"\"\""
      ]
    },
    {
      "cell_type": "code",
      "execution_count": null,
      "metadata": {
        "colab": {
          "base_uri": "https://localhost:8080/"
        },
        "id": "HBd0t1EKO-lJ",
        "outputId": "f0a07d6a-5523-4454-8379-aeff4002b096"
      },
      "outputs": [
        {
          "output_type": "execute_result",
          "data": {
            "text/plain": [
              "['Mercury', 'Venus', 'Earth']"
            ]
          },
          "metadata": {},
          "execution_count": 103
        }
      ],
      "source": [
        "\"\"\"\n",
        "시작 및 종료 인덱스는 모두 선택 사항입니다.\n",
        "시작 인덱스를 생략하면 0으로 간주됩니다.\n",
        "따라서 위의 식을 다음과 같이 다시 작성할 수 있습니다.\n",
        "\"\"\"\n",
        "\n",
        "planets[:3]"
      ]
    },
    {
      "cell_type": "code",
      "execution_count": null,
      "metadata": {
        "colab": {
          "base_uri": "https://localhost:8080/"
        },
        "id": "qCT0_SUHO-lK",
        "outputId": "5eeed397-7821-4909-a292-aa7e70e076cc"
      },
      "outputs": [
        {
          "output_type": "execute_result",
          "data": {
            "text/plain": [
              "['Mars', 'Jupiter', 'Saturn', 'Uranus', 'Neptune']"
            ]
          },
          "metadata": {},
          "execution_count": 104
        }
      ],
      "source": [
        "\"\"\"\n",
        "끝 인덱스를 생략하면 리스트의 길이로 간주됩니다.\n",
        "\"\"\"\n",
        "\n",
        "planets[3:]"
      ]
    },
    {
      "cell_type": "code",
      "execution_count": null,
      "metadata": {
        "colab": {
          "base_uri": "https://localhost:8080/",
          "height": 35
        },
        "id": "KZaswlahO-lM",
        "outputId": "d8fea68e-4180-4357-c3cb-22b3bca7bc8b"
      },
      "outputs": [
        {
          "output_type": "execute_result",
          "data": {
            "text/plain": [
              "''"
            ],
            "application/vnd.google.colaboratory.intrinsic+json": {
              "type": "string"
            }
          },
          "metadata": {},
          "execution_count": 105
        }
      ],
      "source": [
        "\"\"\"\n",
        "즉, 위의 표현은 \"인덱스 3 이후의 모든 행성을 나에게 줘\"를 의미합니다.\n",
        "\"\"\"\n",
        "\"\"\"\"\"\""
      ]
    },
    {
      "cell_type": "code",
      "execution_count": null,
      "metadata": {
        "colab": {
          "base_uri": "https://localhost:8080/"
        },
        "id": "SeGQZNG4O-lO",
        "outputId": "8136f5c8-1fb2-4bac-c36c-bc10d1f02844"
      },
      "outputs": [
        {
          "output_type": "execute_result",
          "data": {
            "text/plain": [
              "['Venus', 'Earth', 'Mars', 'Jupiter', 'Saturn', 'Uranus']"
            ]
          },
          "metadata": {},
          "execution_count": 106
        }
      ],
      "source": [
        "\"\"\"\n",
        "슬라이싱할 때 음수 인덱스를 사용할 수도 있습니다.\n",
        "\"\"\"\n",
        "\n",
        "# All the planets except the first and last\n",
        "planets[1:-1]"
      ]
    },
    {
      "cell_type": "code",
      "execution_count": null,
      "metadata": {
        "colab": {
          "base_uri": "https://localhost:8080/"
        },
        "id": "wVik8w_JO-lP",
        "outputId": "d73e7b0f-146c-494c-b2e7-2fc869a074c3"
      },
      "outputs": [
        {
          "output_type": "execute_result",
          "data": {
            "text/plain": [
              "['Saturn', 'Uranus', 'Neptune']"
            ]
          },
          "metadata": {},
          "execution_count": 107
        }
      ],
      "source": [
        "# The last 3 planets\n",
        "planets[-3:]"
      ]
    },
    {
      "cell_type": "code",
      "execution_count": null,
      "metadata": {
        "colab": {
          "base_uri": "https://localhost:8080/"
        },
        "id": "J67WtbyiO-lQ",
        "outputId": "bb6def82-777b-4708-c3c8-49becff3b430"
      },
      "outputs": [
        {
          "output_type": "execute_result",
          "data": {
            "text/plain": [
              "['Mercury',\n",
              " 'Venus',\n",
              " 'Earth',\n",
              " 'Malacandra',\n",
              " 'Jupiter',\n",
              " 'Saturn',\n",
              " 'Uranus',\n",
              " 'Neptune']"
            ]
          },
          "metadata": {},
          "execution_count": 108
        }
      ],
      "source": [
        "# 리스트 변경\n",
        "\"\"\"\n",
        "리스트는 \"변경 가능\"합니다. 즉, \"제자리에서\" 수정할 수 있습니다.\n",
        "\n",
        "리스트를 수정하는 한 가지 방법은 인덱스 또는 슬라이스 식에 할당하는 것입니다.\n",
        "\n",
        "예를 들어 Mars의 이름을 바꾸고 싶다고 가정해 보겠습니다.\n",
        "\"\"\"\n",
        "\n",
        "planets[3] = 'Malacandra'\n",
        "planets"
      ]
    },
    {
      "cell_type": "code",
      "execution_count": null,
      "metadata": {
        "colab": {
          "base_uri": "https://localhost:8080/"
        },
        "id": "Tp4db-O9O-lT",
        "outputId": "ddea24fa-140a-4d9a-b449-fad433197aaa"
      },
      "outputs": [
        {
          "output_type": "stream",
          "name": "stdout",
          "text": [
            "['Mur', 'Vee', 'Ur', 'Malacandra', 'Jupiter', 'Saturn', 'Uranus', 'Neptune']\n"
          ]
        }
      ],
      "source": [
        "\"\"\"\n",
        "흠, 꽤 한 입입니다.\n",
        "처음 3개 행성의 이름을 줄여서 보상해 봅시다.\n",
        "\"\"\"\n",
        "\n",
        "planets[:3] = ['Mur', 'Vee', 'Ur']\n",
        "print(planets)\n",
        "# That was silly. Let's give them back their old names\n",
        "planets[:4] = ['Mercury', 'Venus', 'Earth', 'Mars',]"
      ]
    },
    {
      "cell_type": "code",
      "execution_count": null,
      "metadata": {
        "colab": {
          "base_uri": "https://localhost:8080/"
        },
        "id": "TH-3oHzQO-lV",
        "outputId": "0ec783ad-bc8c-4ca3-a36a-489096ad0d8e"
      },
      "outputs": [
        {
          "output_type": "execute_result",
          "data": {
            "text/plain": [
              "8"
            ]
          },
          "metadata": {},
          "execution_count": 110
        }
      ],
      "source": [
        "# 리스트 기능\n",
        "\"\"\"\n",
        "Python에는 목록 작업에 유용한 몇 가지 기능이 있습니다.\n",
        "\n",
        "len은 목록의 길이를 제공합니다.\n",
        "\"\"\"\n",
        "\n",
        "# How many planets are there?\n",
        "len(planets)"
      ]
    },
    {
      "cell_type": "code",
      "execution_count": null,
      "metadata": {
        "colab": {
          "base_uri": "https://localhost:8080/"
        },
        "id": "Iy-ErYIvO-lY",
        "outputId": "f5fd208c-091d-402a-e7d5-270b5a98141e"
      },
      "outputs": [
        {
          "output_type": "execute_result",
          "data": {
            "text/plain": [
              "['Earth', 'Jupiter', 'Mars', 'Mercury', 'Neptune', 'Saturn', 'Uranus', 'Venus']"
            ]
          },
          "metadata": {},
          "execution_count": 111
        }
      ],
      "source": [
        "\"\"\"\n",
        "sorted는 목록의 정렬된 버전을 반환합니다.\n",
        "\"\"\"\n",
        "\n",
        "# The planets sorted in alphabetical order\n",
        "sorted(planets)"
      ]
    },
    {
      "cell_type": "code",
      "execution_count": null,
      "metadata": {
        "colab": {
          "base_uri": "https://localhost:8080/"
        },
        "id": "iXWHbuWfO-lb",
        "outputId": "2e1304da-692e-489b-8e7e-2eefb1bcbba0"
      },
      "outputs": [
        {
          "output_type": "execute_result",
          "data": {
            "text/plain": [
              "17"
            ]
          },
          "metadata": {},
          "execution_count": 112
        }
      ],
      "source": [
        "\"\"\"\n",
        "sum은 예상할 수 있는 작업을 수행합니다.\n",
        "\"\"\"\n",
        "\n",
        "primes = [2, 3, 5, 7]\n",
        "sum(primes)"
      ]
    },
    {
      "cell_type": "code",
      "execution_count": null,
      "metadata": {
        "colab": {
          "base_uri": "https://localhost:8080/"
        },
        "id": "l7ffxOy4O-ld",
        "outputId": "ba7b481a-1c67-4de4-9b2b-acce4e21152f"
      },
      "outputs": [
        {
          "output_type": "execute_result",
          "data": {
            "text/plain": [
              "7"
            ]
          },
          "metadata": {},
          "execution_count": 113
        }
      ],
      "source": [
        "\"\"\"\n",
        "우리는 이전에 min 및 max를 사용하여 여러 인수의 최소값 또는 최대값을 얻었습니다.\n",
        "그러나 단일 리스트 인수를 전달할 수도 있습니다.\n",
        "\"\"\"\n",
        "\n",
        "max(primes)"
      ]
    },
    {
      "cell_type": "code",
      "execution_count": null,
      "metadata": {
        "colab": {
          "base_uri": "https://localhost:8080/"
        },
        "id": "bcNSNI6tO-le",
        "outputId": "5f41a302-26cc-42d2-892f-3f66e26a1113"
      },
      "outputs": [
        {
          "output_type": "stream",
          "name": "stdout",
          "text": [
            "0\n",
            "3.0\n"
          ]
        }
      ],
      "source": [
        "# 막간: 객체\n",
        "\"\"\"\n",
        "나는 지금까지 '객체'라는 용어를 많이 사용했습니다.\n",
        "Python의 모든 것이 객체라는 것을 읽었을 수도 있습니다.\n",
        "그게 무슨 뜻이야?\n",
        "\n",
        "요컨대, 객체는 어떤 것을 가지고 다닙니다.\n",
        "Python의 점 구문을 사용하여 해당 항목에 액세스합니다.\n",
        "\n",
        "예를 들어 Python의 숫자는 허수 부분을 나타내는 imag라는 관련 변수를 전달합니다.\n",
        "(매우 이상한 수학을 수행하지 않는 한 이것을 사용할 필요가 없을 것입니다.)\n",
        "\"\"\"\n",
        "\n",
        "x = 12\n",
        "# x is a real number, so its imaginary part is 0.\n",
        "print(x.imag)\n",
        "# Here's how to make a complex number, in case you've ever been curious:\n",
        "c = 12 + 3j\n",
        "print(c.imag)"
      ]
    },
    {
      "cell_type": "code",
      "execution_count": null,
      "metadata": {
        "colab": {
          "base_uri": "https://localhost:8080/"
        },
        "id": "5MS2nKJwO-lg",
        "outputId": "cc0eda2b-4648-4d40-f646-60c9f88f9b0d"
      },
      "outputs": [
        {
          "output_type": "execute_result",
          "data": {
            "text/plain": [
              "<function int.bit_length()>"
            ]
          },
          "metadata": {},
          "execution_count": 115
        }
      ],
      "source": [
        "\"\"\"\n",
        "개체가 가지고 다니는 것에는 기능도 포함될 수 있습니다.\n",
        "객체에 연결된 함수를 메서드라고 합니다.\n",
        "(imag와 같이 객체에 연결된 비기능 항목을 속성이라고 합니다.)\n",
        "\n",
        "예를 들어 숫자에는 bit_length라는 메서드가 있습니다.\n",
        "다시 점 구문을 사용하여 액세스합니다.\n",
        "\"\"\"\n",
        "\n",
        "x.bit_length"
      ]
    },
    {
      "cell_type": "code",
      "execution_count": null,
      "metadata": {
        "colab": {
          "base_uri": "https://localhost:8080/"
        },
        "id": "H2_w6sguO-li",
        "outputId": "fc68f7aa-8e53-4242-ffea-7cbc8ff93a4a"
      },
      "outputs": [
        {
          "output_type": "execute_result",
          "data": {
            "text/plain": [
              "4"
            ]
          },
          "metadata": {},
          "execution_count": 116
        }
      ],
      "source": [
        "\"\"\"\n",
        "실제로 호출하려면 괄호를 추가합니다.\n",
        "\"\"\"\n",
        "\n",
        "x.bit_length()"
      ]
    },
    {
      "cell_type": "code",
      "execution_count": null,
      "metadata": {
        "colab": {
          "base_uri": "https://localhost:8080/"
        },
        "id": "QG1cjNYJO-lj",
        "outputId": "ecdd0751-70b9-4033-ff17-5c9e4eff9644"
      },
      "outputs": [
        {
          "output_type": "stream",
          "name": "stdout",
          "text": [
            "Help on built-in function bit_length:\n",
            "\n",
            "bit_length() method of builtins.int instance\n",
            "    Number of bits necessary to represent self in binary.\n",
            "    \n",
            "    >>> bin(37)\n",
            "    '0b100101'\n",
            "    >>> (37).bit_length()\n",
            "    6\n",
            "\n"
          ]
        }
      ],
      "source": [
        "\"\"\"\n",
        "    여담: 연습을 해본 적이 있다면 실제로는 이미 메서드를 호출한 것입니다.\n",
        "    연습장에서 q1, q2, q3 등은 모두 check, hint, solution이라는 메소드를 가진 객체입니다.\n",
        "\n",
        "도움말 함수에 함수를 전달할 수 있는 것과 같은 방식으로(예: help(max)) 메서드를 전달할 수도 있습니다.\n",
        "\"\"\"\n",
        "\n",
        "help(x.bit_length)"
      ]
    },
    {
      "cell_type": "code",
      "execution_count": null,
      "metadata": {
        "colab": {
          "base_uri": "https://localhost:8080/",
          "height": 35
        },
        "id": "xVqC0lY-O-ll",
        "outputId": "1923810c-2f97-4b14-82b5-9b69ff61c01c"
      },
      "outputs": [
        {
          "output_type": "execute_result",
          "data": {
            "text/plain": [
              "''"
            ],
            "application/vnd.google.colaboratory.intrinsic+json": {
              "type": "string"
            }
          },
          "metadata": {},
          "execution_count": 118
        }
      ],
      "source": [
        "\"\"\"\n",
        "위의 예는 완전히 모호했습니다.\n",
        "지금까지 살펴본 개체 유형(숫자, 함수, 부울) 중 어느 것도 사용할 가능성이 있는 특성이나 메서드가 없습니다.\n",
        "\n",
        "그러나 리스트에는 항상 사용하게 될 몇 가지 방법이 있습니다.\n",
        "\"\"\"\n",
        "\"\"\"\"\"\""
      ]
    },
    {
      "cell_type": "code",
      "execution_count": null,
      "metadata": {
        "id": "5AQ854hVO-ln"
      },
      "outputs": [],
      "source": [
        "# 리스트 메서드\n",
        "\"\"\"\n",
        "list.append는 끝에 항목을 추가하여 목록을 수정합니다.\n",
        "\"\"\"\n",
        "\n",
        "# Pluto is a planet darn it!\n",
        "planets.append('Pluto')"
      ]
    },
    {
      "cell_type": "code",
      "execution_count": null,
      "metadata": {
        "colab": {
          "base_uri": "https://localhost:8080/"
        },
        "id": "x1JQNKO9O-lo",
        "outputId": "280ba454-68c8-4ab5-e905-bd3e19856075"
      },
      "outputs": [
        {
          "output_type": "stream",
          "name": "stdout",
          "text": [
            "Help on built-in function append:\n",
            "\n",
            "append(object, /) method of builtins.list instance\n",
            "    Append object to the end of the list.\n",
            "\n"
          ]
        }
      ],
      "source": [
        "\"\"\"\n",
        "위의 셀에 출력이 없는 이유는 무엇입니까?\n",
        "help(planets.append)를 호출하여 문서를 확인합시다.\n",
        "\n",
        "참고: 추가는 행성뿐만 아니라 목록 유형의 모든 개체에서 수행되는 메서드이므로 help(list.append)를 호출할 수도 있습니다.\n",
        "그러나 help(append)를 호출하려고 하면 Python은 \"append\"라는 변수가 없다고 불평합니다.\n",
        "\"추가\" 이름은 목록 내에만 존재합니다.\n",
        "max 또는 len과 같은 내장 함수와 같은 독립 실행형 이름으로 존재하지 않습니다.\n",
        "\"\"\"\n",
        "\n",
        "help(planets.append)"
      ]
    },
    {
      "cell_type": "code",
      "execution_count": null,
      "metadata": {
        "colab": {
          "base_uri": "https://localhost:8080/"
        },
        "id": "21GgorOIO-lp",
        "outputId": "f7fdf4e8-76f0-48f3-9650-93690ac76eb3"
      },
      "outputs": [
        {
          "output_type": "execute_result",
          "data": {
            "text/plain": [
              "['Mercury',\n",
              " 'Venus',\n",
              " 'Earth',\n",
              " 'Mars',\n",
              " 'Jupiter',\n",
              " 'Saturn',\n",
              " 'Uranus',\n",
              " 'Neptune',\n",
              " 'Pluto']"
            ]
          },
          "metadata": {},
          "execution_count": 121
        }
      ],
      "source": [
        "\"\"\"\n",
        "-> None 부분은 list.append가 아무 것도 반환하지 않는다는 것을 알려줍니다.\n",
        "그러나 행성의 값을 확인하면 메서드 호출이 행성의 값을 수정했음을 알 수 있습니다.\n",
        "\"\"\"\n",
        "\n",
        "planets"
      ]
    },
    {
      "cell_type": "code",
      "execution_count": null,
      "metadata": {
        "colab": {
          "base_uri": "https://localhost:8080/",
          "height": 35
        },
        "id": "3tDqm2WhO-lr",
        "outputId": "b8e7f39f-8fe5-472f-f946-12fedcc03992"
      },
      "outputs": [
        {
          "output_type": "execute_result",
          "data": {
            "text/plain": [
              "'Pluto'"
            ],
            "application/vnd.google.colaboratory.intrinsic+json": {
              "type": "string"
            }
          },
          "metadata": {},
          "execution_count": 122
        }
      ],
      "source": [
        "\"\"\"\n",
        "list.pop은 목록의 마지막 요소를 제거하고 반환합니다.\n",
        "\"\"\"\n",
        "\n",
        "planets.pop()"
      ]
    },
    {
      "cell_type": "code",
      "execution_count": null,
      "metadata": {
        "colab": {
          "base_uri": "https://localhost:8080/"
        },
        "id": "b2I_IcXtO-lt",
        "outputId": "648e45bf-bbfd-4022-b317-df3f807743ae"
      },
      "outputs": [
        {
          "output_type": "execute_result",
          "data": {
            "text/plain": [
              "['Mercury', 'Venus', 'Earth', 'Mars', 'Jupiter', 'Saturn', 'Uranus', 'Neptune']"
            ]
          },
          "metadata": {},
          "execution_count": 123
        }
      ],
      "source": [
        "planets"
      ]
    },
    {
      "cell_type": "code",
      "execution_count": null,
      "metadata": {
        "colab": {
          "base_uri": "https://localhost:8080/"
        },
        "id": "WOmGX84VO-lv",
        "outputId": "3e78711d-4476-4285-a8d9-7208629a53f6"
      },
      "outputs": [
        {
          "output_type": "execute_result",
          "data": {
            "text/plain": [
              "2"
            ]
          },
          "metadata": {},
          "execution_count": 124
        }
      ],
      "source": [
        "# 리스트 검색\n",
        "\"\"\"\n",
        "지구는 행성 순서대로 어디에 속합니까?\n",
        "list.index 메서드를 사용하여 인덱스를 가져올 수 있습니다.\n",
        "\"\"\"\n",
        "\n",
        "planets.index('Earth')"
      ]
    },
    {
      "cell_type": "code",
      "execution_count": null,
      "metadata": {
        "colab": {
          "base_uri": "https://localhost:8080/",
          "height": 211
        },
        "id": "ab647vLcO-lw",
        "outputId": "cd875759-1b48-4a3f-acb0-ef85944d4c94"
      },
      "outputs": [
        {
          "output_type": "error",
          "ename": "ValueError",
          "evalue": "ignored",
          "traceback": [
            "\u001b[0;31m---------------------------------------------------------------------------\u001b[0m",
            "\u001b[0;31mValueError\u001b[0m                                Traceback (most recent call last)",
            "\u001b[0;32m<ipython-input-125-4fb00aa255db>\u001b[0m in \u001b[0;36m<module>\u001b[0;34m\u001b[0m\n\u001b[1;32m      5\u001b[0m \"\"\"\n\u001b[1;32m      6\u001b[0m \u001b[0;34m\u001b[0m\u001b[0m\n\u001b[0;32m----> 7\u001b[0;31m \u001b[0mplanets\u001b[0m\u001b[0;34m.\u001b[0m\u001b[0mindex\u001b[0m\u001b[0;34m(\u001b[0m\u001b[0;34m'Pluto'\u001b[0m\u001b[0;34m)\u001b[0m\u001b[0;34m\u001b[0m\u001b[0;34m\u001b[0m\u001b[0m\n\u001b[0m",
            "\u001b[0;31mValueError\u001b[0m: 'Pluto' is not in list"
          ]
        }
      ],
      "source": [
        "\"\"\"\n",
        "세 번째입니다(즉, 인덱스 2 - 0 인덱싱!).\n",
        "\n",
        "명왕성은 어떤 지수에서 발생합니까?\n",
        "\"\"\"\n",
        "\n",
        "planets.index('Pluto')"
      ]
    },
    {
      "cell_type": "code",
      "execution_count": null,
      "metadata": {
        "colab": {
          "base_uri": "https://localhost:8080/"
        },
        "id": "z02B7lzGO-ly",
        "outputId": "5f949d60-c6f3-4f25-c388-73c4da50b544"
      },
      "outputs": [
        {
          "output_type": "execute_result",
          "data": {
            "text/plain": [
              "True"
            ]
          },
          "metadata": {},
          "execution_count": 126
        }
      ],
      "source": [
        "\"\"\"\n",
        "아 맞다...\n",
        "\n",
        "이와 같은 불쾌한 놀라움을 피하기 위해 in 연산자를 사용하여 목록에 특정 값이 포함되어 있는지 확인할 수 있습니다.\n",
        "\"\"\"\n",
        "\n",
        "# Is Earth a planet?\n",
        "\"Earth\" in planets"
      ]
    },
    {
      "cell_type": "code",
      "execution_count": null,
      "metadata": {
        "colab": {
          "base_uri": "https://localhost:8080/"
        },
        "id": "HvBdPaQRO-lz",
        "outputId": "24f589c8-e047-4aa6-b322-5674ae362ab7"
      },
      "outputs": [
        {
          "output_type": "execute_result",
          "data": {
            "text/plain": [
              "False"
            ]
          },
          "metadata": {},
          "execution_count": 127
        }
      ],
      "source": [
        "# Is Calbefraques a planet?\n",
        "\"Calbefraques\" in planets"
      ]
    },
    {
      "cell_type": "code",
      "execution_count": null,
      "metadata": {
        "colab": {
          "base_uri": "https://localhost:8080/"
        },
        "id": "olNehb8bO-l0",
        "outputId": "c058e142-4f48-4838-fc45-c911adba8105"
      },
      "outputs": [
        {
          "output_type": "stream",
          "name": "stdout",
          "text": [
            "Help on list object:\n",
            "\n",
            "class list(object)\n",
            " |  list(iterable=(), /)\n",
            " |  \n",
            " |  Built-in mutable sequence.\n",
            " |  \n",
            " |  If no argument is given, the constructor creates a new empty list.\n",
            " |  The argument must be an iterable if specified.\n",
            " |  \n",
            " |  Methods defined here:\n",
            " |  \n",
            " |  __add__(self, value, /)\n",
            " |      Return self+value.\n",
            " |  \n",
            " |  __contains__(self, key, /)\n",
            " |      Return key in self.\n",
            " |  \n",
            " |  __delitem__(self, key, /)\n",
            " |      Delete self[key].\n",
            " |  \n",
            " |  __eq__(self, value, /)\n",
            " |      Return self==value.\n",
            " |  \n",
            " |  __ge__(self, value, /)\n",
            " |      Return self>=value.\n",
            " |  \n",
            " |  __getattribute__(self, name, /)\n",
            " |      Return getattr(self, name).\n",
            " |  \n",
            " |  __getitem__(...)\n",
            " |      x.__getitem__(y) <==> x[y]\n",
            " |  \n",
            " |  __gt__(self, value, /)\n",
            " |      Return self>value.\n",
            " |  \n",
            " |  __iadd__(self, value, /)\n",
            " |      Implement self+=value.\n",
            " |  \n",
            " |  __imul__(self, value, /)\n",
            " |      Implement self*=value.\n",
            " |  \n",
            " |  __init__(self, /, *args, **kwargs)\n",
            " |      Initialize self.  See help(type(self)) for accurate signature.\n",
            " |  \n",
            " |  __iter__(self, /)\n",
            " |      Implement iter(self).\n",
            " |  \n",
            " |  __le__(self, value, /)\n",
            " |      Return self<=value.\n",
            " |  \n",
            " |  __len__(self, /)\n",
            " |      Return len(self).\n",
            " |  \n",
            " |  __lt__(self, value, /)\n",
            " |      Return self<value.\n",
            " |  \n",
            " |  __mul__(self, value, /)\n",
            " |      Return self*value.\n",
            " |  \n",
            " |  __ne__(self, value, /)\n",
            " |      Return self!=value.\n",
            " |  \n",
            " |  __repr__(self, /)\n",
            " |      Return repr(self).\n",
            " |  \n",
            " |  __reversed__(self, /)\n",
            " |      Return a reverse iterator over the list.\n",
            " |  \n",
            " |  __rmul__(self, value, /)\n",
            " |      Return value*self.\n",
            " |  \n",
            " |  __setitem__(self, key, value, /)\n",
            " |      Set self[key] to value.\n",
            " |  \n",
            " |  __sizeof__(self, /)\n",
            " |      Return the size of the list in memory, in bytes.\n",
            " |  \n",
            " |  append(self, object, /)\n",
            " |      Append object to the end of the list.\n",
            " |  \n",
            " |  clear(self, /)\n",
            " |      Remove all items from list.\n",
            " |  \n",
            " |  copy(self, /)\n",
            " |      Return a shallow copy of the list.\n",
            " |  \n",
            " |  count(self, value, /)\n",
            " |      Return number of occurrences of value.\n",
            " |  \n",
            " |  extend(self, iterable, /)\n",
            " |      Extend list by appending elements from the iterable.\n",
            " |  \n",
            " |  index(self, value, start=0, stop=9223372036854775807, /)\n",
            " |      Return first index of value.\n",
            " |      \n",
            " |      Raises ValueError if the value is not present.\n",
            " |  \n",
            " |  insert(self, index, object, /)\n",
            " |      Insert object before index.\n",
            " |  \n",
            " |  pop(self, index=-1, /)\n",
            " |      Remove and return item at index (default last).\n",
            " |      \n",
            " |      Raises IndexError if list is empty or index is out of range.\n",
            " |  \n",
            " |  remove(self, value, /)\n",
            " |      Remove first occurrence of value.\n",
            " |      \n",
            " |      Raises ValueError if the value is not present.\n",
            " |  \n",
            " |  reverse(self, /)\n",
            " |      Reverse *IN PLACE*.\n",
            " |  \n",
            " |  sort(self, /, *, key=None, reverse=False)\n",
            " |      Sort the list in ascending order and return None.\n",
            " |      \n",
            " |      The sort is in-place (i.e. the list itself is modified) and stable (i.e. the\n",
            " |      order of two equal elements is maintained).\n",
            " |      \n",
            " |      If a key function is given, apply it once to each list item and sort them,\n",
            " |      ascending or descending, according to their function values.\n",
            " |      \n",
            " |      The reverse flag can be set to sort in descending order.\n",
            " |  \n",
            " |  ----------------------------------------------------------------------\n",
            " |  Class methods defined here:\n",
            " |  \n",
            " |  __class_getitem__(...) from builtins.type\n",
            " |      See PEP 585\n",
            " |  \n",
            " |  ----------------------------------------------------------------------\n",
            " |  Static methods defined here:\n",
            " |  \n",
            " |  __new__(*args, **kwargs) from builtins.type\n",
            " |      Create and return a new object.  See help(type) for accurate signature.\n",
            " |  \n",
            " |  ----------------------------------------------------------------------\n",
            " |  Data and other attributes defined here:\n",
            " |  \n",
            " |  __hash__ = None\n",
            "\n"
          ]
        }
      ],
      "source": [
        "\"\"\"\n",
        "우리가 다루지 않은 흥미로운 목록 방법이 몇 가지 더 있습니다.\n",
        "특정 객체에 연결된 모든 메서드와 속성에 대해 알고 싶다면 객체 자체에서 help()를 호출할 수 있습니다.\n",
        "예를 들어 help(planets) 는 모든 목록 메서드에 대해 알려줍니다.\n",
        "\"\"\"\n",
        "\n",
        "help(planets)"
      ]
    },
    {
      "cell_type": "code",
      "execution_count": null,
      "metadata": {
        "colab": {
          "base_uri": "https://localhost:8080/",
          "height": 35
        },
        "id": "ErsxyB3IO-l2",
        "outputId": "38be0c43-4c70-4902-8be1-b7cc7ce3dd34"
      },
      "outputs": [
        {
          "output_type": "execute_result",
          "data": {
            "text/plain": [
              "''"
            ],
            "application/vnd.google.colaboratory.intrinsic+json": {
              "type": "string"
            }
          },
          "metadata": {},
          "execution_count": 136
        }
      ],
      "source": [
        "\"\"\"\n",
        "전체 도움말 페이지를 보려면 \"출력\" 버튼을 클릭하십시오.\n",
        "목록에는 __eq__ 및 __iadd__와 같이 이상하게 보이는 이름을 가진 메서드가 많이 있습니다.\n",
        "지금은 이것들에 대해 너무 걱정하지 마십시오.\n",
        "(아마도 이러한 메서드를 직접 호출하지 않을 것입니다. 하지만 인덱싱 또는 비교 연산자와 같은 구문을 사용할 때 뒤에서 호출됩니다.)\n",
        "가장 흥미로운 메서드는 목록의 맨 아래에 있습니다(append, clear, copy 등). .\n",
        "\"\"\"\n",
        "\"\"\"\"\"\""
      ]
    },
    {
      "cell_type": "code",
      "execution_count": null,
      "metadata": {
        "id": "K5IkFNbgO-l3"
      },
      "outputs": [],
      "source": [
        "# 튜플\n",
        "\"\"\"\n",
        "튜플은 리스트와 거의 똑같습니다.\n",
        "단지 두 가지 면에서 다릅니다.\n",
        "\n",
        "1: 생성 구문은 대괄호 대신 괄호를 사용합니다.\n",
        "\"\"\"\n",
        "\n",
        "t = (1, 2, 3)"
      ]
    },
    {
      "cell_type": "code",
      "execution_count": null,
      "metadata": {
        "colab": {
          "base_uri": "https://localhost:8080/"
        },
        "id": "3shLUzcjO-l4",
        "outputId": "ef24dc2b-0a7b-4bba-995a-36e6b0c3007d"
      },
      "outputs": [
        {
          "output_type": "execute_result",
          "data": {
            "text/plain": [
              "(1, 2, 3)"
            ]
          },
          "metadata": {},
          "execution_count": 131
        }
      ],
      "source": [
        "t = 1, 2, 3 # equivalent to above\n",
        "t"
      ]
    },
    {
      "cell_type": "code",
      "execution_count": null,
      "metadata": {
        "colab": {
          "base_uri": "https://localhost:8080/",
          "height": 211
        },
        "id": "_aJyrR7uO-l5",
        "outputId": "c55802a9-308c-4b7a-d124-07859b3931bc"
      },
      "outputs": [
        {
          "output_type": "error",
          "ename": "TypeError",
          "evalue": "ignored",
          "traceback": [
            "\u001b[0;31m---------------------------------------------------------------------------\u001b[0m",
            "\u001b[0;31mTypeError\u001b[0m                                 Traceback (most recent call last)",
            "\u001b[0;32m<ipython-input-132-e77cbd91e909>\u001b[0m in \u001b[0;36m<module>\u001b[0;34m\u001b[0m\n\u001b[1;32m      3\u001b[0m \"\"\"\n\u001b[1;32m      4\u001b[0m \u001b[0;34m\u001b[0m\u001b[0m\n\u001b[0;32m----> 5\u001b[0;31m \u001b[0mt\u001b[0m\u001b[0;34m[\u001b[0m\u001b[0;36m0\u001b[0m\u001b[0;34m]\u001b[0m \u001b[0;34m=\u001b[0m \u001b[0;36m100\u001b[0m\u001b[0;34m\u001b[0m\u001b[0;34m\u001b[0m\u001b[0m\n\u001b[0m",
            "\u001b[0;31mTypeError\u001b[0m: 'tuple' object does not support item assignment"
          ]
        }
      ],
      "source": [
        "\"\"\"\n",
        "2: 수정할 수 없습니다(변경할 수 없음).\n",
        "\"\"\"\n",
        "\n",
        "t[0] = 100"
      ]
    },
    {
      "cell_type": "code",
      "execution_count": null,
      "metadata": {
        "colab": {
          "base_uri": "https://localhost:8080/"
        },
        "id": "jYsG3gG0O-l6",
        "outputId": "f2ba0d63-b268-424c-aa73-9d7e3bc5ddbf"
      },
      "outputs": [
        {
          "output_type": "execute_result",
          "data": {
            "text/plain": [
              "(1, 8)"
            ]
          },
          "metadata": {},
          "execution_count": 133
        }
      ],
      "source": [
        "\"\"\"\n",
        "튜플은 여러 반환 값이 있는 함수에 자주 사용됩니다.\n",
        "\n",
        "예를 들어 float 객체의 as_integer_ratio() 메서드는 분자와 분모를 튜플 형식으로 반환합니다.\n",
        "\"\"\"\n",
        "\n",
        "x = 0.125\n",
        "x.as_integer_ratio()"
      ]
    },
    {
      "cell_type": "code",
      "execution_count": null,
      "metadata": {
        "colab": {
          "base_uri": "https://localhost:8080/"
        },
        "id": "dT12uq2PO-l7",
        "outputId": "fd006e34-1eb2-4bd1-a952-3f187cf0420a"
      },
      "outputs": [
        {
          "output_type": "stream",
          "name": "stdout",
          "text": [
            "0.125\n"
          ]
        }
      ],
      "source": [
        "\"\"\"\n",
        "이러한 여러 반환 값은 다음과 같이 개별적으로 할당할 수 있습니다.\n",
        "\"\"\"\n",
        "\n",
        "numerator, denominator = x.as_integer_ratio()\n",
        "print(numerator / denominator)"
      ]
    },
    {
      "cell_type": "code",
      "execution_count": null,
      "metadata": {
        "colab": {
          "base_uri": "https://localhost:8080/"
        },
        "id": "WKGHTKViO-l8",
        "outputId": "17d1b38b-70c6-4bb6-9b96-2560711aacb2"
      },
      "outputs": [
        {
          "output_type": "stream",
          "name": "stdout",
          "text": [
            "0 1\n"
          ]
        }
      ],
      "source": [
        "\"\"\"\n",
        "마지막으로 두 변수를 교환하기 위한 고전적인 Stupid Python Trick™에 대한 통찰력을 얻었습니다!\n",
        "\"\"\"\n",
        "\n",
        "a = 1\n",
        "b = 0\n",
        "a, b = b, a 'C언어에서는 temp 값 만들어서 했는데 파이썬은 직관적'\n",
        "print(a, b)"
      ]
    }
  ],
  "metadata": {
    "kernelspec": {
      "display_name": "Python 3",
      "language": "python",
      "name": "python3"
    },
    "language_info": {
      "codemirror_mode": {
        "name": "ipython",
        "version": 3
      },
      "file_extension": ".py",
      "mimetype": "text/x-python",
      "name": "python",
      "nbconvert_exporter": "python",
      "pygments_lexer": "ipython3",
      "version": "3.11.2"
    },
    "orig_nbformat": 4,
    "vscode": {
      "interpreter": {
        "hash": "22779186065cfbbb6d100dc370e05c47871f8cc15a1860e2ac7f74385b6d6011"
      }
    },
    "colab": {
      "provenance": [],
      "include_colab_link": true
    }
  },
  "nbformat": 4,
  "nbformat_minor": 0
}