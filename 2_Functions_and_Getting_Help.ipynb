{
  "cells": [
    {
      "cell_type": "markdown",
      "metadata": {
        "id": "view-in-github",
        "colab_type": "text"
      },
      "source": [
        "<a href=\"https://colab.research.google.com/github/RYEONGRYEONG/Python/blob/main/2_Functions_and_Getting_Help.ipynb\" target=\"_parent\"><img src=\"https://colab.research.google.com/assets/colab-badge.svg\" alt=\"Open In Colab\"/></a>"
      ]
    },
    {
      "cell_type": "code",
      "execution_count": null,
      "metadata": {
        "id": "SXneDGFJYsgH",
        "outputId": "cca9563c-d215-464d-d4fb-6334db1a5f79",
        "colab": {
          "base_uri": "https://localhost:8080/",
          "height": 35
        }
      },
      "outputs": [
        {
          "output_type": "execute_result",
          "data": {
            "text/plain": [
              "''"
            ],
            "application/vnd.google.colaboratory.intrinsic+json": {
              "type": "string"
            }
          },
          "metadata": {},
          "execution_count": 1
        }
      ],
      "source": [
        "# 함수 및 도움말 얻기\n",
        "    # 함수 호출 및 자체 정의, Python 내장 문서 사용\n",
        "\n",
        "\"\"\"\n",
        "당신은 이미 print와 abs와 같은 함수를 보고 사용했습니다.\n",
        "그러나 Python에는 더 많은 기능이 있으며 자신의 기능을 정의하는 것은 Python 프로그래밍의 큰 부분입니다.\n",
        "\n",
        "이 단원에서는 함수 사용 및 정의에 대해 자세히 배웁니다.\n",
        "\"\"\"\n",
        "\"\"\"\"\"\""
      ]
    },
    {
      "cell_type": "code",
      "execution_count": null,
      "metadata": {
        "id": "2hjroRwNYsgM",
        "outputId": "91197d58-3e09-4a1e-c905-0bdb30174c05",
        "colab": {
          "base_uri": "https://localhost:8080/",
          "height": 182
        }
      },
      "outputs": [
        {
          "output_type": "stream",
          "name": "stdout",
          "text": [
            "Help on built-in function round in module builtins:\n",
            "\n",
            "round(number, ndigits=None)\n",
            "    Round a number to a given precision in decimal digits.\n",
            "    \n",
            "    The return value is an integer if ndigits is omitted or None.  Otherwise\n",
            "    the return value has the same type as the number.  ndigits may be negative.\n",
            "\n"
          ]
        },
        {
          "output_type": "execute_result",
          "data": {
            "text/plain": [
              "''"
            ],
            "application/vnd.google.colaboratory.intrinsic+json": {
              "type": "string"
            }
          },
          "metadata": {},
          "execution_count": 2
        }
      ],
      "source": [
        "# 도움을 받다\n",
        "\"\"\"\n",
        "이전 튜토리얼에서 abs 함수를 보았지만 그것이 무엇을 하는지 잊었다면?\n",
        "\n",
        "help() 함수는 아마도 여러분이 배울 수 있는 가장 중요한 파이썬 함수일 것입니다.\n",
        "help() 사용법을 기억할 수 있다면 대부분의 다른 기능을 이해하는 열쇠를 쥐고 있는 것입니다.\n",
        "\n",
        "다음은 예입니다.\n",
        "\"\"\"\n",
        "\n",
        "help(round)\n",
        "\n",
        "\"\"\"\n",
        "help()는 다음 두 가지를 표시합니다.\n",
        "\n",
        "    1. 해당 함수의 헤더 round(number, ndigits=None). 이 경우 이것은 round()가 숫자로 설명할 수 있는 인수를 취함을 알려줍니다. 추가로 ndigits로 설명될 수 있는 별도의 인수를 선택적으로 제공할 수 있습니다.\n",
        "    2. 기능이 수행하는 작업에 대한 간략한 영어 설명입니다.\n",
        "\"\"\"\n",
        "\"\"\"\"\"\""
      ]
    },
    {
      "cell_type": "code",
      "execution_count": null,
      "metadata": {
        "id": "gauCsAd4YsgO",
        "outputId": "360a83c4-74b1-4021-c72d-326ecece32e1",
        "colab": {
          "base_uri": "https://localhost:8080/",
          "height": 1000
        }
      },
      "outputs": [
        {
          "output_type": "stream",
          "name": "stdout",
          "text": [
            "Help on int object:\n",
            "\n",
            "class int(object)\n",
            " |  int([x]) -> integer\n",
            " |  int(x, base=10) -> integer\n",
            " |  \n",
            " |  Convert a number or string to an integer, or return 0 if no arguments\n",
            " |  are given.  If x is a number, return x.__int__().  For floating point\n",
            " |  numbers, this truncates towards zero.\n",
            " |  \n",
            " |  If x is not a number or if base is given, then x must be a string,\n",
            " |  bytes, or bytearray instance representing an integer literal in the\n",
            " |  given base.  The literal can be preceded by '+' or '-' and be surrounded\n",
            " |  by whitespace.  The base defaults to 10.  Valid bases are 0 and 2-36.\n",
            " |  Base 0 means to interpret the base from the string as an integer literal.\n",
            " |  >>> int('0b100', base=0)\n",
            " |  4\n",
            " |  \n",
            " |  Built-in subclasses:\n",
            " |      bool\n",
            " |  \n",
            " |  Methods defined here:\n",
            " |  \n",
            " |  __abs__(self, /)\n",
            " |      abs(self)\n",
            " |  \n",
            " |  __add__(self, value, /)\n",
            " |      Return self+value.\n",
            " |  \n",
            " |  __and__(self, value, /)\n",
            " |      Return self&value.\n",
            " |  \n",
            " |  __bool__(self, /)\n",
            " |      True if self else False\n",
            " |  \n",
            " |  __ceil__(...)\n",
            " |      Ceiling of an Integral returns itself.\n",
            " |  \n",
            " |  __divmod__(self, value, /)\n",
            " |      Return divmod(self, value).\n",
            " |  \n",
            " |  __eq__(self, value, /)\n",
            " |      Return self==value.\n",
            " |  \n",
            " |  __float__(self, /)\n",
            " |      float(self)\n",
            " |  \n",
            " |  __floor__(...)\n",
            " |      Flooring an Integral returns itself.\n",
            " |  \n",
            " |  __floordiv__(self, value, /)\n",
            " |      Return self//value.\n",
            " |  \n",
            " |  __format__(self, format_spec, /)\n",
            " |      Default object formatter.\n",
            " |  \n",
            " |  __ge__(self, value, /)\n",
            " |      Return self>=value.\n",
            " |  \n",
            " |  __getattribute__(self, name, /)\n",
            " |      Return getattr(self, name).\n",
            " |  \n",
            " |  __getnewargs__(self, /)\n",
            " |  \n",
            " |  __gt__(self, value, /)\n",
            " |      Return self>value.\n",
            " |  \n",
            " |  __hash__(self, /)\n",
            " |      Return hash(self).\n",
            " |  \n",
            " |  __index__(self, /)\n",
            " |      Return self converted to an integer, if self is suitable for use as an index into a list.\n",
            " |  \n",
            " |  __int__(self, /)\n",
            " |      int(self)\n",
            " |  \n",
            " |  __invert__(self, /)\n",
            " |      ~self\n",
            " |  \n",
            " |  __le__(self, value, /)\n",
            " |      Return self<=value.\n",
            " |  \n",
            " |  __lshift__(self, value, /)\n",
            " |      Return self<<value.\n",
            " |  \n",
            " |  __lt__(self, value, /)\n",
            " |      Return self<value.\n",
            " |  \n",
            " |  __mod__(self, value, /)\n",
            " |      Return self%value.\n",
            " |  \n",
            " |  __mul__(self, value, /)\n",
            " |      Return self*value.\n",
            " |  \n",
            " |  __ne__(self, value, /)\n",
            " |      Return self!=value.\n",
            " |  \n",
            " |  __neg__(self, /)\n",
            " |      -self\n",
            " |  \n",
            " |  __or__(self, value, /)\n",
            " |      Return self|value.\n",
            " |  \n",
            " |  __pos__(self, /)\n",
            " |      +self\n",
            " |  \n",
            " |  __pow__(self, value, mod=None, /)\n",
            " |      Return pow(self, value, mod).\n",
            " |  \n",
            " |  __radd__(self, value, /)\n",
            " |      Return value+self.\n",
            " |  \n",
            " |  __rand__(self, value, /)\n",
            " |      Return value&self.\n",
            " |  \n",
            " |  __rdivmod__(self, value, /)\n",
            " |      Return divmod(value, self).\n",
            " |  \n",
            " |  __repr__(self, /)\n",
            " |      Return repr(self).\n",
            " |  \n",
            " |  __rfloordiv__(self, value, /)\n",
            " |      Return value//self.\n",
            " |  \n",
            " |  __rlshift__(self, value, /)\n",
            " |      Return value<<self.\n",
            " |  \n",
            " |  __rmod__(self, value, /)\n",
            " |      Return value%self.\n",
            " |  \n",
            " |  __rmul__(self, value, /)\n",
            " |      Return value*self.\n",
            " |  \n",
            " |  __ror__(self, value, /)\n",
            " |      Return value|self.\n",
            " |  \n",
            " |  __round__(...)\n",
            " |      Rounding an Integral returns itself.\n",
            " |      Rounding with an ndigits argument also returns an integer.\n",
            " |  \n",
            " |  __rpow__(self, value, mod=None, /)\n",
            " |      Return pow(value, self, mod).\n",
            " |  \n",
            " |  __rrshift__(self, value, /)\n",
            " |      Return value>>self.\n",
            " |  \n",
            " |  __rshift__(self, value, /)\n",
            " |      Return self>>value.\n",
            " |  \n",
            " |  __rsub__(self, value, /)\n",
            " |      Return value-self.\n",
            " |  \n",
            " |  __rtruediv__(self, value, /)\n",
            " |      Return value/self.\n",
            " |  \n",
            " |  __rxor__(self, value, /)\n",
            " |      Return value^self.\n",
            " |  \n",
            " |  __sizeof__(self, /)\n",
            " |      Returns size in memory, in bytes.\n",
            " |  \n",
            " |  __sub__(self, value, /)\n",
            " |      Return self-value.\n",
            " |  \n",
            " |  __truediv__(self, value, /)\n",
            " |      Return self/value.\n",
            " |  \n",
            " |  __trunc__(...)\n",
            " |      Truncating an Integral returns itself.\n",
            " |  \n",
            " |  __xor__(self, value, /)\n",
            " |      Return self^value.\n",
            " |  \n",
            " |  as_integer_ratio(self, /)\n",
            " |      Return integer ratio.\n",
            " |      \n",
            " |      Return a pair of integers, whose ratio is exactly equal to the original int\n",
            " |      and with a positive denominator.\n",
            " |      \n",
            " |      >>> (10).as_integer_ratio()\n",
            " |      (10, 1)\n",
            " |      >>> (-10).as_integer_ratio()\n",
            " |      (-10, 1)\n",
            " |      >>> (0).as_integer_ratio()\n",
            " |      (0, 1)\n",
            " |  \n",
            " |  bit_length(self, /)\n",
            " |      Number of bits necessary to represent self in binary.\n",
            " |      \n",
            " |      >>> bin(37)\n",
            " |      '0b100101'\n",
            " |      >>> (37).bit_length()\n",
            " |      6\n",
            " |  \n",
            " |  conjugate(...)\n",
            " |      Returns self, the complex conjugate of any int.\n",
            " |  \n",
            " |  to_bytes(self, /, length, byteorder, *, signed=False)\n",
            " |      Return an array of bytes representing an integer.\n",
            " |      \n",
            " |      length\n",
            " |        Length of bytes object to use.  An OverflowError is raised if the\n",
            " |        integer is not representable with the given number of bytes.\n",
            " |      byteorder\n",
            " |        The byte order used to represent the integer.  If byteorder is 'big',\n",
            " |        the most significant byte is at the beginning of the byte array.  If\n",
            " |        byteorder is 'little', the most significant byte is at the end of the\n",
            " |        byte array.  To request the native byte order of the host system, use\n",
            " |        `sys.byteorder' as the byte order value.\n",
            " |      signed\n",
            " |        Determines whether two's complement is used to represent the integer.\n",
            " |        If signed is False and a negative integer is given, an OverflowError\n",
            " |        is raised.\n",
            " |  \n",
            " |  ----------------------------------------------------------------------\n",
            " |  Class methods defined here:\n",
            " |  \n",
            " |  from_bytes(bytes, byteorder, *, signed=False) from builtins.type\n",
            " |      Return the integer represented by the given array of bytes.\n",
            " |      \n",
            " |      bytes\n",
            " |        Holds the array of bytes to convert.  The argument must either\n",
            " |        support the buffer protocol or be an iterable object producing bytes.\n",
            " |        Bytes and bytearray are examples of built-in objects that support the\n",
            " |        buffer protocol.\n",
            " |      byteorder\n",
            " |        The byte order used to represent the integer.  If byteorder is 'big',\n",
            " |        the most significant byte is at the beginning of the byte array.  If\n",
            " |        byteorder is 'little', the most significant byte is at the end of the\n",
            " |        byte array.  To request the native byte order of the host system, use\n",
            " |        `sys.byteorder' as the byte order value.\n",
            " |      signed\n",
            " |        Indicates whether two's complement is used to represent the integer.\n",
            " |  \n",
            " |  ----------------------------------------------------------------------\n",
            " |  Static methods defined here:\n",
            " |  \n",
            " |  __new__(*args, **kwargs) from builtins.type\n",
            " |      Create and return a new object.  See help(type) for accurate signature.\n",
            " |  \n",
            " |  ----------------------------------------------------------------------\n",
            " |  Data descriptors defined here:\n",
            " |  \n",
            " |  denominator\n",
            " |      the denominator of a rational number in lowest terms\n",
            " |  \n",
            " |  imag\n",
            " |      the imaginary part of a complex number\n",
            " |  \n",
            " |  numerator\n",
            " |      the numerator of a rational number in lowest terms\n",
            " |  \n",
            " |  real\n",
            " |      the real part of a complex number\n",
            "\n"
          ]
        },
        {
          "output_type": "execute_result",
          "data": {
            "text/plain": [
              "''"
            ],
            "application/vnd.google.colaboratory.intrinsic+json": {
              "type": "string"
            }
          },
          "metadata": {},
          "execution_count": 3
        }
      ],
      "source": [
        "\"\"\"\n",
        "일반적인 실수: 함수를 찾을 때 함수 호출 결과가 아니라 함수 자체의 이름을 전달해야 합니다.\n",
        "\n",
        "round() 함수 호출에 대한 도움말을 호출하면 어떻게 됩니까?\n",
        "아래 셀의 출력 숨기기를 해제하여 확인하십시오.\n",
        "\"\"\"\n",
        "help(round(-2.01)) #help(round) 함수 자체의 이름을 전달\n",
        "\n",
        "\"\"\"\n",
        "Python은 이와 같은 식을 내부에서 외부로 평가합니다.\n",
        "먼저 round(-2.01) 값을 계산한 다음 해당 표현식의 출력에 대한 도움말을 제공합니다.\n",
        "\n",
        "(그리고 정수에 대해 할 말이 많은 것으로 밝혀졌습니다! 나중에 Python의 객체, 메서드 및 속성에 대해 이야기한 후 위의 도움말 출력이 더 이해가 될 것입니다.)\n",
        "\"\"\"\n",
        "\"\"\"\"\"\""
      ]
    },
    {
      "cell_type": "code",
      "execution_count": null,
      "metadata": {
        "id": "e8w0rrplYsgQ",
        "outputId": "b4a88229-a7a2-454e-d861-f558c20df34d",
        "colab": {
          "base_uri": "https://localhost:8080/",
          "height": 256
        }
      },
      "outputs": [
        {
          "output_type": "stream",
          "name": "stdout",
          "text": [
            "Help on built-in function print in module builtins:\n",
            "\n",
            "print(...)\n",
            "    print(value, ..., sep=' ', end='\\n', file=sys.stdout, flush=False)\n",
            "    \n",
            "    Prints the values to a stream, or to sys.stdout by default.\n",
            "    Optional keyword arguments:\n",
            "    file:  a file-like object (stream); defaults to the current sys.stdout.\n",
            "    sep:   string inserted between values, default a space.\n",
            "    end:   string appended after the last value, default a newline.\n",
            "    flush: whether to forcibly flush the stream.\n",
            "\n"
          ]
        },
        {
          "output_type": "execute_result",
          "data": {
            "text/plain": [
              "''"
            ],
            "application/vnd.google.colaboratory.intrinsic+json": {
              "type": "string"
            }
          },
          "metadata": {},
          "execution_count": 4
        }
      ],
      "source": [
        "\"\"\"\n",
        "round는 짧은 독스트링을 가진 매우 간단한 함수입니다.\n",
        "help는 print와 같이 더 복잡하고 구성 가능한 기능을 처리할 때 더욱 빛을 발합니다.\n",
        "다음 출력이 이해할 수 없어 보이더라도 걱정하지 마십시오.\n",
        "지금은 이 도움말에서 새로운 것을 선택할 수 있는지 확인하십시오.\n",
        "\"\"\"\n",
        "help(print)\n",
        "\n",
        "\"\"\"\n",
        "당신이 그것을 찾고 있었다면, 당신은 print가 sep라는 인수를 가질 수 있다는 것과 우리가 그것을 인쇄할 때 다른 모든 인수 사이에 넣는 것을 설명한다는 것을 알게 될 것입니다.\n",
        "\"\"\"\n",
        "\"\"\"\"\"\""
      ]
    },
    {
      "cell_type": "code",
      "execution_count": null,
      "metadata": {
        "id": "KAtp9u58YsgR",
        "outputId": "001bea72-0932-442b-f08c-15f5dfd052f4",
        "colab": {
          "base_uri": "https://localhost:8080/",
          "height": 35
        }
      },
      "outputs": [
        {
          "output_type": "execute_result",
          "data": {
            "text/plain": [
              "''"
            ],
            "application/vnd.google.colaboratory.intrinsic+json": {
              "type": "string"
            }
          },
          "metadata": {},
          "execution_count": 5
        }
      ],
      "source": [
        "# 함수 정의\n",
        "\"\"\"\n",
        "내장 함수는 훌륭하지만 자체 함수 정의를 시작하기 전에만 사용할 수 있습니다.\n",
        "아래는 간단한 예입니다.\n",
        "\"\"\"\n",
        "\n",
        "def least_difference(a, b, c):\n",
        "    diff1 = abs(a - b)\n",
        "    diff2 = abs(b - c)\n",
        "    diff3 = abs(a - c)\n",
        "    return min(diff1, diff2, diff3)\n",
        "\n",
        "\"\"\"\n",
        "그러면 a, b 및 c의 세 인수를 사용하는 least_difference라는 함수가 생성됩니다.\n",
        "\n",
        "함수는 def 키워드로 시작하는 헤더로 시작합니다.\n",
        ": 다음에 들여쓰기된 코드 블록은 함수가 호출될 때 실행됩니다.\n",
        "\n",
        "return은 함수와 고유하게 연결된 또 다른 키워드입니다.\n",
        "Python이 return 문을 만나면 즉시 함수를 종료하고 오른쪽에 있는 값을 호출 컨텍스트에 전달합니다.\n",
        "\"\"\"\n",
        "\"\"\"\"\"\""
      ]
    },
    {
      "cell_type": "code",
      "execution_count": null,
      "metadata": {
        "id": "inWkP0R-YsgS",
        "outputId": "d56ac93f-fdd7-4b98-99a4-5e40547c1aab",
        "colab": {
          "base_uri": "https://localhost:8080/"
        }
      },
      "outputs": [
        {
          "output_type": "stream",
          "name": "stdout",
          "text": [
            "9 0 1\n"
          ]
        }
      ],
      "source": [
        "\"\"\"\n",
        "least_difference()가 소스 코드에서 무엇을 하는지 명확합니까?\n",
        "확실하지 않은 경우 몇 가지 예에서 언제든지 시도해 볼 수 있습니다.\n",
        "\"\"\"\n",
        "\n",
        "print(\n",
        "    least_difference(1, 10, 100),\n",
        "    least_difference(1, 10, 10),\n",
        "    least_difference(5, 6, 7), # Python allows trailing commas in argument lists. How nice is that?\n",
        ")"
      ]
    },
    {
      "cell_type": "code",
      "execution_count": null,
      "metadata": {
        "id": "zidGrpJkYsgT",
        "outputId": "142f098f-8749-4af3-eac9-98ca4f1a6c18",
        "colab": {
          "base_uri": "https://localhost:8080/"
        }
      },
      "outputs": [
        {
          "output_type": "stream",
          "name": "stdout",
          "text": [
            "Help on function least_difference in module __main__:\n",
            "\n",
            "least_difference(a, b, c)\n",
            "\n"
          ]
        }
      ],
      "source": [
        "\"\"\"\n",
        "또는 help() 함수가 이에 대해 알려줄 수 있습니다.\n",
        "\"\"\"\n",
        "\n",
        "help(least_difference)"
      ]
    },
    {
      "cell_type": "code",
      "execution_count": null,
      "metadata": {
        "id": "uaYQLZXNYsgU"
      },
      "outputs": [],
      "source": [
        "\"\"\"\n",
        "Python은 내 코드를 읽고 멋진 영어 설명으로 바꿀 만큼 똑똑하지 않습니다.\n",
        "그러나 함수를 작성할 때 docstring이라고 하는 설명을 제공할 수 있습니다.\n",
        "\"\"\"\n",
        "\n",
        "#Docstrings\n",
        "\n",
        "def least_difference(a, b, c):\n",
        "    \"\"\"Return the smallest difference between any two numbers\n",
        "    among a, b and c.\n",
        "    \n",
        "    >>> least_difference(1, 5, -5)\n",
        "    4\n",
        "    \"\"\" #협업할 때 내가 만든 함수에 대해 모를 수도 있으니 사용자 정의 함수에 설명을 덧붙이는 것이 좋음\n",
        "    diff1 = abs(a - b)\n",
        "    diff2 = abs(b - c)\n",
        "    diff3 = abs(a - c)\n",
        "    return min(diff1, diff2, diff3)"
      ]
    },
    {
      "cell_type": "code",
      "execution_count": null,
      "metadata": {
        "id": "_XYNxocqYsgU",
        "outputId": "a6b3940f-4df1-4903-a03f-aa0377a82f05",
        "colab": {
          "base_uri": "https://localhost:8080/",
          "height": 201
        }
      },
      "outputs": [
        {
          "output_type": "stream",
          "name": "stdout",
          "text": [
            "Help on function least_difference in module __main__:\n",
            "\n",
            "least_difference(a, b, c)\n",
            "    Return the smallest difference between any two numbers\n",
            "    among a, b and c.\n",
            "    \n",
            "    >>> least_difference(1, 5, -5)\n",
            "    4\n",
            "\n"
          ]
        },
        {
          "output_type": "execute_result",
          "data": {
            "text/plain": [
              "''"
            ],
            "application/vnd.google.colaboratory.intrinsic+json": {
              "type": "string"
            }
          },
          "metadata": {},
          "execution_count": 9
        }
      ],
      "source": [
        "\"\"\"\n",
        "docstring은 함수의 헤더 바로 뒤에 오는 세 개의 따옴표로 묶인 문자열(여러 줄에 걸쳐 있을 수 있음)입니다.\n",
        "함수에서 help()를 호출하면 docstring이 표시됩니다.\n",
        "\"\"\"\n",
        "\n",
        "help(least_difference)\n",
        "\n",
        "\"\"\"\n",
        "    참고: docstring의 마지막 두 줄은 예제 함수 호출 및 결과입니다.\n",
        "    (>>>는 Python 대화형 쉘에서 사용되는 명령 프롬프트에 대한 참조입니다.)\n",
        "    Python은 예제 호출을 실행하지 않습니다.\n",
        "    단지 독자의 이익을 위해 존재합니다.\n",
        "    함수의 docstring에 하나 이상의 예제 호출을 포함하는 규칙은 보편적으로 관찰되는 것과는 거리가 멀지만 다른 사람이 함수를 이해하는 데 매우 효과적일 수 있습니다.\n",
        "    실제 예제는 numpy 함수 np.eye에 대한 이 독스트링을 참조하세요.\n",
        "    \n",
        "    좋은 프로그래머는 코드를 사용한 직후(드문 경우) 코드를 버릴 것으로 예상하지 않는 한 docstring을 사용합니다.\n",
        "    따라서 독스트링 작성도 시작해야 합니다!\n",
        "\"\"\"\n",
        "\"\"\"\"\"\""
      ]
    },
    {
      "cell_type": "code",
      "execution_count": null,
      "metadata": {
        "id": "E-9p83HkYsgX",
        "outputId": "2f7aa23f-e48c-43c3-945a-e1af1a62382d",
        "colab": {
          "base_uri": "https://localhost:8080/",
          "height": 54
        }
      },
      "outputs": [
        {
          "output_type": "stream",
          "name": "stdout",
          "text": [
            "None None None\n"
          ]
        },
        {
          "output_type": "execute_result",
          "data": {
            "text/plain": [
              "''"
            ],
            "application/vnd.google.colaboratory.intrinsic+json": {
              "type": "string"
            }
          },
          "metadata": {},
          "execution_count": 10
        }
      ],
      "source": [
        "# 반환하지 않는 함수\n",
        "\"\"\"\n",
        "함수에 return 키워드를 포함하지 않으면 어떻게 될까요?\n",
        "\"\"\"\n",
        "\n",
        "def least_difference(a, b, c):\n",
        "    \"\"\"Return the smallest difference between any two numbers\n",
        "    among a, b and c.\n",
        "    \"\"\"\n",
        "    diff1 = abs(a - b)\n",
        "    diff2 = abs(b - c)\n",
        "    diff3 = abs(a - c)\n",
        "    min(diff1, diff2, diff3)\n",
        "    \n",
        "print(\n",
        "    least_difference(1, 10, 100),\n",
        "    least_difference(1, 10, 10),\n",
        "    least_difference(5, 6, 7),\n",
        ")\n",
        "\n",
        "\"\"\"\n",
        "Python을 사용하면 이러한 함수를 정의할 수 있습니다.\n",
        "그것들을 호출한 결과는 특별한 값 None입니다.\n",
        "(이는 다른 언어의 \"null\" 개념과 유사합니다.)\n",
        "\n",
        "return 문이 없으면 least_difference는 완전히 의미가 없지만 부작용이 있는 함수는 아무 것도 반환하지 않고 유용한 작업을 수행할 수 있습니다.\n",
        "우리는 이미 이에 대한 두 가지 예를 보았습니다.\n",
        "print()와 help()는 아무 것도 반환하지 않습니다.\n",
        "우리는 부작용에 대해서만 호출합니다(화면에 일부 텍스트 넣기).\n",
        "유용한 부작용의 다른 예로는 파일 쓰기 또는 입력 수정이 있습니다.\n",
        "\"\"\"\n",
        "\"\"\"\"\"\""
      ]
    },
    {
      "cell_type": "code",
      "execution_count": null,
      "metadata": {
        "id": "3XzP2jjvYsgY",
        "outputId": "a061eb01-fe0c-4e72-8080-b5f20cf715c6",
        "colab": {
          "base_uri": "https://localhost:8080/"
        }
      },
      "outputs": [
        {
          "output_type": "stream",
          "name": "stdout",
          "text": [
            "\n",
            "None\n"
          ]
        }
      ],
      "source": [
        "mystery = print()\n",
        "print(mystery)"
      ]
    },
    {
      "cell_type": "code",
      "execution_count": null,
      "metadata": {
        "id": "UsWvCUPsYsgZ",
        "outputId": "8d3dc667-500d-41d6-a142-61d992b9d62f",
        "colab": {
          "base_uri": "https://localhost:8080/"
        }
      },
      "outputs": [
        {
          "output_type": "stream",
          "name": "stdout",
          "text": [
            "1 < 2 < 3\n"
          ]
        }
      ],
      "source": [
        "# 기본 인수\n",
        "\"\"\"\n",
        "help(print)를 호출했을 때 print 함수에 몇 가지 선택적 인수가 있음을 확인했습니다.\n",
        "예를 들어, 인쇄된 인수 사이에 특수 문자열을 넣기 위해 sep에 대한 값을 지정할 수 있습니다.\n",
        "\"\"\"\n",
        "\n",
        "print(1, 2, 3, sep=' < ')"
      ]
    },
    {
      "cell_type": "code",
      "execution_count": null,
      "metadata": {
        "id": "S7wLgHnzYsga",
        "outputId": "f5da8970-9d69-48d1-e9bc-e3d5bd3ad20d",
        "colab": {
          "base_uri": "https://localhost:8080/"
        }
      },
      "outputs": [
        {
          "output_type": "stream",
          "name": "stdout",
          "text": [
            "1 2 3\n"
          ]
        }
      ],
      "source": [
        "\"\"\"\n",
        "그러나 값을 지정하지 않으면 sep는 기본값 ' '(단일 공백)를 갖는 것으로 처리됩니다.\n",
        "\"\"\"\n",
        "\n",
        "print(1, 2, 3)"
      ]
    },
    {
      "cell_type": "code",
      "execution_count": null,
      "metadata": {
        "id": "17h8OSEpYsga",
        "outputId": "10bac858-3129-4a39-dbb8-b325dfd8323f",
        "colab": {
          "base_uri": "https://localhost:8080/"
        }
      },
      "outputs": [
        {
          "output_type": "stream",
          "name": "stdout",
          "text": [
            "Hello, Colin\n",
            "Hello, Kaggle\n",
            "Hello, world\n"
          ]
        }
      ],
      "source": [
        "\"\"\"\n",
        "우리가 정의한 함수에 기본값이 있는 선택적 인수를 추가하는 것은 매우 쉽습니다.\n",
        "\"\"\"\n",
        "\n",
        "def greet(who=\"Colin\"):\n",
        "    print(\"Hello,\", who)\n",
        "    \n",
        "greet()\n",
        "greet(who=\"Kaggle\")\n",
        "# (In this case, we don't need to specify the name of the argument, because it's unambiguous.)\n",
        "greet(\"world\")"
      ]
    },
    {
      "cell_type": "code",
      "execution_count": null,
      "metadata": {
        "id": "csQHbZ2cYsgb",
        "outputId": "d3f4b50c-c312-4acb-9233-e143b1911594",
        "colab": {
          "base_uri": "https://localhost:8080/"
        }
      },
      "outputs": [
        {
          "output_type": "stream",
          "name": "stdout",
          "text": [
            "5\n",
            "25\n"
          ]
        }
      ],
      "source": [
        "# 함수에 적용된 함수\n",
        "\"\"\"\n",
        "처음에는 매우 추상적으로 느껴질 수 있지만 강력한 것이 있습니다.\n",
        "함수를 다른 함수에 대한 인수로 제공할 수 있습니다.\n",
        "몇 가지 예를 들면 다음과 같이 명확해질 수 있습니다.\n",
        "\"\"\"\n",
        "\n",
        "def mult_by_five(x):\n",
        "    return 5 * x\n",
        "\n",
        "def call(fn, arg):\n",
        "    \"\"\"Call fn on arg\"\"\"\n",
        "    return fn(arg)\n",
        "\n",
        "def squared_call(fn, arg):\n",
        "    \"\"\"Call fn on the result of calling fn on arg\"\"\"\n",
        "    return fn(fn(arg))\n",
        "\n",
        "print(\n",
        "    call(mult_by_five, 1),\n",
        "    squared_call(mult_by_five, 1), \n",
        "    sep='\\n', # '\\n' is the newline character - it starts a new line\n",
        ")"
      ]
    },
    {
      "cell_type": "code",
      "execution_count": null,
      "metadata": {
        "id": "dRsjD1ApYsgb",
        "outputId": "41c71344-5c90-47e8-fddb-064dc5e08036",
        "colab": {
          "base_uri": "https://localhost:8080/"
        }
      },
      "outputs": [
        {
          "output_type": "stream",
          "name": "stdout",
          "text": [
            "Which number is biggest?\n",
            "100\n",
            "Which number is the biggest modulo 5?\n",
            "14\n"
          ]
        }
      ],
      "source": [
        "\"\"\"\n",
        "다른 함수에서 작동하는 함수를 \"고차 함수\"라고 합니다.\n",
        "당신은 아마도 잠시 동안 당신 자신의 글을 쓰지 않을 것입니다.\n",
        "그러나 호출하기에 유용할 수 있는 Python에 내장된 고차 함수가 있습니다.\n",
        "\n",
        "다음은 max 함수를 사용하는 흥미로운 예입니다.\n",
        "\n",
        "기본적으로 max는 가장 큰 인수를 반환합니다.\n",
        "그러나 선택적 키 인수를 사용하여 함수를 전달하면 key(x)(일명 'argmax')를 최대화하는 인수 x를 반환합니다.\n",
        "\"\"\"\n",
        "\n",
        "def mod_5(x):\n",
        "    \"\"\"Return the remainder of x after dividing by 5\"\"\"\n",
        "    return x % 5\n",
        "\n",
        "print(\n",
        "    'Which number is biggest?',\n",
        "    max(100, 51, 14),\n",
        "    'Which number is the biggest modulo 5?',\n",
        "    max(100, 51, 14, key=mod_5),\n",
        "    sep='\\n',\n",
        ")"
      ]
    }
  ],
  "metadata": {
    "kernelspec": {
      "display_name": "Python 3",
      "language": "python",
      "name": "python3"
    },
    "language_info": {
      "codemirror_mode": {
        "name": "ipython",
        "version": 3
      },
      "file_extension": ".py",
      "mimetype": "text/x-python",
      "name": "python",
      "nbconvert_exporter": "python",
      "pygments_lexer": "ipython3",
      "version": "3.11.2"
    },
    "orig_nbformat": 4,
    "vscode": {
      "interpreter": {
        "hash": "22779186065cfbbb6d100dc370e05c47871f8cc15a1860e2ac7f74385b6d6011"
      }
    },
    "colab": {
      "provenance": [],
      "include_colab_link": true
    }
  },
  "nbformat": 4,
  "nbformat_minor": 0
}