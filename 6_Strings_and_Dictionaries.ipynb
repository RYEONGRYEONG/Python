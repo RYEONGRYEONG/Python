{
  "cells": [
    {
      "cell_type": "markdown",
      "metadata": {
        "id": "view-in-github",
        "colab_type": "text"
      },
      "source": [
        "<a href=\"https://colab.research.google.com/github/RYEONGRYEONG/Python/blob/main/6_Strings_and_Dictionaries.ipynb\" target=\"_parent\"><img src=\"https://colab.research.google.com/assets/colab-badge.svg\" alt=\"Open In Colab\"/></a>"
      ]
    },
    {
      "cell_type": "code",
      "execution_count": null,
      "metadata": {
        "colab": {
          "base_uri": "https://localhost:8080/",
          "height": 35
        },
        "id": "a9-qqwwvae18",
        "outputId": "320ba37d-109e-4935-fa62-ab162b3b6565"
      },
      "outputs": [
        {
          "output_type": "execute_result",
          "data": {
            "text/plain": [
              "''"
            ],
            "application/vnd.google.colaboratory.intrinsic+json": {
              "type": "string"
            }
          },
          "metadata": {},
          "execution_count": 4
        }
      ],
      "source": [
        "# 문자열과 딕셔너리\n",
        "    # 두 가지 기본 Python 데이터 유형인 문자열 및 딕셔너리 작업\n",
        "\n",
        "\"\"\"\n",
        "이 단원에서는 문자열과 딕셔너리라는 두 가지 필수 Python 유형을 다룹니다.\n",
        "\"\"\"\n",
        "\"\"\"\"\"\""
      ]
    },
    {
      "cell_type": "code",
      "execution_count": null,
      "metadata": {
        "colab": {
          "base_uri": "https://localhost:8080/",
          "height": 35
        },
        "id": "XIkjF6A6ae2E",
        "outputId": "45a82f10-959d-48fe-c9ad-889ebe60adef"
      },
      "outputs": [
        {
          "output_type": "execute_result",
          "data": {
            "text/plain": [
              "''"
            ],
            "application/vnd.google.colaboratory.intrinsic+json": {
              "type": "string"
            }
          },
          "metadata": {},
          "execution_count": 5
        }
      ],
      "source": [
        "# 문자열\n",
        "\"\"\"\n",
        "Python 언어가 실제로 빛을 발하는 한 곳은 문자열 조작입니다.\n",
        "이 섹션에서는 Python의 내장 문자열 메서드 및 서식 지정 작업 중 일부를 다룹니다.\n",
        "\n",
        "이러한 문자열 조작 패턴은 데이터 과학 작업의 맥락에서 자주 나타납니다.\n",
        "\"\"\"\n",
        "\"\"\"\"\"\""
      ]
    },
    {
      "cell_type": "code",
      "execution_count": null,
      "metadata": {
        "colab": {
          "base_uri": "https://localhost:8080/"
        },
        "id": "tx4tR8Toae2H",
        "outputId": "c178dc1c-8e9d-44c5-81f0-5c769c365dd7"
      },
      "outputs": [
        {
          "output_type": "execute_result",
          "data": {
            "text/plain": [
              "True"
            ]
          },
          "metadata": {},
          "execution_count": 6
        }
      ],
      "source": [
        "\"\"\"\n",
        "문자열 구문\n",
        "이전 수업의 예제에서 이미 많은 문자열을 보았지만 간단히 요약하면 Python의 문자열은 작은따옴표 또는 큰따옴표를 사용하여 정의할 수 있습니다.\n",
        "기능적으로 동일합니다.\n",
        "\"\"\"\n",
        "\n",
        "x = 'Pluto is a planet' \n",
        "y = \"Pluto is a planet\" '문장으로 된 것은 큰따옴표로 작성하는 것을 추천'\n",
        "x == y"
      ]
    },
    {
      "cell_type": "code",
      "execution_count": null,
      "metadata": {
        "colab": {
          "base_uri": "https://localhost:8080/"
        },
        "id": "vgg2xbjsae2I",
        "outputId": "42460cec-6e66-4696-c27b-4710f76b92a3"
      },
      "outputs": [
        {
          "output_type": "stream",
          "name": "stdout",
          "text": [
            "Pluto's a planet!\n",
            "My dog is named \"Pluto\"\n"
          ]
        }
      ],
      "source": [
        "\"\"\"\n",
        "문자열에 작은따옴표 문자가 포함된 경우 큰따옴표가 편리합니다(예: 아포스트로피 표시).\n",
        "\n",
        "마찬가지로 작은따옴표로 묶으면 큰따옴표가 포함된 문자열을 쉽게 만들 수 있습니다.\n",
        "\"\"\"\n",
        "\n",
        "print(\"Pluto's a planet!\")\n",
        "print('My dog is named \"Pluto\"')"
      ]
    },
    {
      "cell_type": "code",
      "execution_count": null,
      "metadata": {
        "colab": {
          "base_uri": "https://localhost:8080/",
          "height": 137
        },
        "id": "VgQGP0vRae2K",
        "outputId": "8207294f-bb92-4abb-c067-1d6e7eea4ccc"
      },
      "outputs": [
        {
          "output_type": "error",
          "ename": "SyntaxError",
          "evalue": "ignored",
          "traceback": [
            "\u001b[0;36m  File \u001b[0;32m\"<ipython-input-8-2578a7f8747e>\"\u001b[0;36m, line \u001b[0;32m5\u001b[0m\n\u001b[0;31m    'Pluto's a planet!'\u001b[0m\n\u001b[0m           ^\u001b[0m\n\u001b[0;31mSyntaxError\u001b[0m\u001b[0;31m:\u001b[0m invalid syntax\n"
          ]
        }
      ],
      "source": [
        "\"\"\"\n",
        "작은따옴표 문자열 안에 작은따옴표 문자를 넣으려고 하면 Python이 혼란스러워집니다.\n",
        "\"\"\"\n",
        "\n",
        "'Pluto's a planet!'"
      ]
    },
    {
      "cell_type": "code",
      "execution_count": null,
      "metadata": {
        "colab": {
          "base_uri": "https://localhost:8080/",
          "height": 35
        },
        "id": "1LPhuRuiae2N",
        "outputId": "b4356c8d-a557-4fbd-ab1d-c24afb4b5747"
      },
      "outputs": [
        {
          "output_type": "execute_result",
          "data": {
            "text/plain": [
              "\"Pluto's a planet!\""
            ],
            "application/vnd.google.colaboratory.intrinsic+json": {
              "type": "string"
            }
          },
          "metadata": {},
          "execution_count": 9
        }
      ],
      "source": [
        "\"\"\"\n",
        "작은따옴표를 백슬래시로 \"이스케이프\"하여 이 문제를 해결할 수 있습니다.\n",
        "\"\"\"\n",
        "\n",
        "'Pluto\\'s a planet!'"
      ]
    },
    {
      "cell_type": "code",
      "execution_count": null,
      "metadata": {
        "colab": {
          "base_uri": "https://localhost:8080/",
          "height": 137
        },
        "id": "EClgUIhQae2P",
        "outputId": "7a84ce44-5cd5-43e3-ae66-5faf3f7fce49"
      },
      "outputs": [
        {
          "output_type": "error",
          "ename": "SyntaxError",
          "evalue": "ignored",
          "traceback": [
            "\u001b[0;36m  File \u001b[0;32m\"<ipython-input-10-a437ef4edec7>\"\u001b[0;36m, line \u001b[0;32m5\u001b[0m\n\u001b[0;31m    What you type...      What you get      example\t                    print(example)\u001b[0m\n\u001b[0m         ^\u001b[0m\n\u001b[0;31mSyntaxError\u001b[0m\u001b[0;31m:\u001b[0m invalid syntax\n"
          ]
        }
      ],
      "source": [
        "\"\"\"\n",
        "아래 표에는 백슬래시 문자의 몇 가지 중요한 용도가 요약되어 있습니다.\n",
        "\"\"\"\n",
        "\n",
        "What you type...      What you get      example\t                    print(example)\n",
        "\\'                    '                 'What\\'s up?'               What's up?\n",
        "\\\"                    \"                 \"That's \\\"cool\\\"\"           That's \"cool\"\n",
        "\\\\                    \\                 \"Look, a mountain: /\\\\\"     Look, a mountain: /\\\n",
        "\\n                                      \"1\\n2 3\"                    1\n",
        "                                                                    2 3"
      ]
    },
    {
      "cell_type": "code",
      "execution_count": null,
      "metadata": {
        "colab": {
          "base_uri": "https://localhost:8080/"
        },
        "id": "Pa1frhjZae2Q",
        "outputId": "cba4f3d2-e3db-4ead-e159-27b30597f014"
      },
      "outputs": [
        {
          "output_type": "stream",
          "name": "stdout",
          "text": [
            "hello\n",
            "world\n"
          ]
        }
      ],
      "source": [
        "\"\"\"\n",
        "마지막 시퀀스 \\n은 개행 문자를 나타냅니다.\n",
        "Python이 새 줄을 시작하도록 합니다.\n",
        "\"\"\"\n",
        "\n",
        "hello = \"hello\\nworld\"\n",
        "print(hello)"
      ]
    },
    {
      "cell_type": "code",
      "execution_count": null,
      "metadata": {
        "colab": {
          "base_uri": "https://localhost:8080/"
        },
        "id": "zj7AkryRae2R",
        "outputId": "2a486312-16c9-4ce4-93f0-ed540da370aa"
      },
      "outputs": [
        {
          "output_type": "stream",
          "name": "stdout",
          "text": [
            "hello\n",
            "world\n"
          ]
        },
        {
          "output_type": "execute_result",
          "data": {
            "text/plain": [
              "True"
            ]
          },
          "metadata": {},
          "execution_count": 18
        }
      ],
      "source": [
        "\"\"\"\n",
        "또한 문자열에 대한 Python의 삼중 따옴표 구문을 사용하면 문자 그대로 개행 문자를 포함할 수 있습니다(즉, 특수 '\\n' 시퀀스를 사용하는 대신 키보드에서 'Enter' 키를 누르기만 하면 됨).\n",
        "우리는 함수를 문서화하는 데 사용하는 docstring에서 이미 이것을 보았지만 문자열을 정의하려는 모든 곳에서 사용할 수 있습니다.\n",
        "\"\"\"\n",
        "\n",
        "triplequoted_hello = \"\"\"hello\n",
        "world\"\"\"\n",
        "print(triplequoted_hello)\n",
        "triplequoted_hello == hello"
      ]
    },
    {
      "cell_type": "code",
      "execution_count": null,
      "metadata": {
        "colab": {
          "base_uri": "https://localhost:8080/"
        },
        "id": "DYZlaJAKae2T",
        "outputId": "f7f106df-6129-476c-b1ba-e7ed2056b054"
      },
      "outputs": [
        {
          "output_type": "stream",
          "name": "stdout",
          "text": [
            "hello\n",
            "world\n",
            "hellopluto"
          ]
        }
      ],
      "source": [
        "\"\"\"\n",
        "print() 함수는 기본값 '\\n' 이외의 키워드 인수 end 값을 지정하지 않는 한 자동으로 개행 문자를 추가합니다.\n",
        "\"\"\"\n",
        "\n",
        "print(\"hello\")\n",
        "print(\"world\")\n",
        "print(\"hello\", end='')\n",
        "print(\"pluto\", end='')"
      ]
    },
    {
      "cell_type": "code",
      "execution_count": null,
      "metadata": {
        "colab": {
          "base_uri": "https://localhost:8080/",
          "height": 35
        },
        "id": "Xb84agoyae2U",
        "outputId": "c10a7fb1-ed99-4418-b6a6-23d9cc1f5d1e"
      },
      "outputs": [
        {
          "output_type": "execute_result",
          "data": {
            "text/plain": [
              "'P'"
            ],
            "application/vnd.google.colaboratory.intrinsic+json": {
              "type": "string"
            }
          },
          "metadata": {},
          "execution_count": 20
        }
      ],
      "source": [
        "# 문자열은 시퀀스입니다.\n",
        "\"\"\"\n",
        "문자열은 일련의 문자로 생각할 수 있습니다.\n",
        "우리가 목록에 할 수 있는 거의 모든 것을 문자열에도 할 수 있습니다.\n",
        "\"\"\"\n",
        "\n",
        "# Indexing\n",
        "planet = 'Pluto'\n",
        "planet[0]"
      ]
    },
    {
      "cell_type": "code",
      "execution_count": null,
      "metadata": {
        "colab": {
          "base_uri": "https://localhost:8080/",
          "height": 35
        },
        "id": "-x75ESLXae2W",
        "outputId": "859a829c-c11a-4118-b990-ae688a06a43d"
      },
      "outputs": [
        {
          "output_type": "execute_result",
          "data": {
            "text/plain": [
              "'uto'"
            ],
            "application/vnd.google.colaboratory.intrinsic+json": {
              "type": "string"
            }
          },
          "metadata": {},
          "execution_count": 21
        }
      ],
      "source": [
        "# Slicing\n",
        "planet[-3:]"
      ]
    },
    {
      "cell_type": "code",
      "execution_count": null,
      "metadata": {
        "colab": {
          "base_uri": "https://localhost:8080/"
        },
        "id": "XpvGaMbWae2X",
        "outputId": "b2638833-7376-45ad-9e01-43c8e0d72597"
      },
      "outputs": [
        {
          "output_type": "execute_result",
          "data": {
            "text/plain": [
              "5"
            ]
          },
          "metadata": {},
          "execution_count": 22
        }
      ],
      "source": [
        "# How long is this string?\n",
        "len(planet)"
      ]
    },
    {
      "cell_type": "code",
      "execution_count": null,
      "metadata": {
        "colab": {
          "base_uri": "https://localhost:8080/"
        },
        "id": "LnHGZ5gJae2Z",
        "outputId": "0c5f9e87-6012-45a1-9bc1-5996da9f17ae"
      },
      "outputs": [
        {
          "output_type": "execute_result",
          "data": {
            "text/plain": [
              "['P! ', 'l! ', 'u! ', 't! ', 'o! ']"
            ]
          },
          "metadata": {},
          "execution_count": 23
        }
      ],
      "source": [
        "# Yes, we can even loop over them\n",
        "[char+'! ' for char in planet]"
      ]
    },
    {
      "cell_type": "code",
      "execution_count": null,
      "metadata": {
        "colab": {
          "base_uri": "https://localhost:8080/",
          "height": 229
        },
        "id": "t74Naq77ae2b",
        "outputId": "4518801c-0d30-4967-af73-892b65599ffb"
      },
      "outputs": [
        {
          "output_type": "error",
          "ename": "TypeError",
          "evalue": "ignored",
          "traceback": [
            "\u001b[0;31m---------------------------------------------------------------------------\u001b[0m",
            "\u001b[0;31mTypeError\u001b[0m                                 Traceback (most recent call last)",
            "\u001b[0;32m<ipython-input-24-8ae43b9f7917>\u001b[0m in \u001b[0;36m<module>\u001b[0;34m\u001b[0m\n\u001b[1;32m      4\u001b[0m \"\"\"\n\u001b[1;32m      5\u001b[0m \u001b[0;34m\u001b[0m\u001b[0m\n\u001b[0;32m----> 6\u001b[0;31m \u001b[0mplanet\u001b[0m\u001b[0;34m[\u001b[0m\u001b[0;36m0\u001b[0m\u001b[0;34m]\u001b[0m \u001b[0;34m=\u001b[0m \u001b[0;34m'B'\u001b[0m\u001b[0;34m\u001b[0m\u001b[0;34m\u001b[0m\u001b[0m\n\u001b[0m\u001b[1;32m      7\u001b[0m \u001b[0;31m# planet.append doesn't work either\u001b[0m\u001b[0;34m\u001b[0m\u001b[0;34m\u001b[0m\u001b[0m\n",
            "\u001b[0;31mTypeError\u001b[0m: 'str' object does not support item assignment"
          ]
        }
      ],
      "source": [
        "\"\"\"\n",
        "그러나 리스트와 다른 주요 방식은 변경할 수 없다는 것입니다.\n",
        "수정할 수 없습니다.\n",
        "\"\"\"\n",
        "\n",
        "planet[0] = 'B'\n",
        "# planet.append doesn't work either"
      ]
    },
    {
      "cell_type": "code",
      "execution_count": null,
      "metadata": {
        "colab": {
          "base_uri": "https://localhost:8080/",
          "height": 35
        },
        "id": "QL3DgjVzae2d",
        "outputId": "d2af286a-c4d4-4862-b76d-8e30af55800b"
      },
      "outputs": [
        {
          "output_type": "execute_result",
          "data": {
            "text/plain": [
              "'PLUTO IS A PLANET!'"
            ],
            "application/vnd.google.colaboratory.intrinsic+json": {
              "type": "string"
            }
          },
          "metadata": {},
          "execution_count": 25
        }
      ],
      "source": [
        "# 문자열 메서드\n",
        "\"\"\"\n",
        "리스트와 마찬가지로 str 유형에는 매우 유용한 메서드가 많이 있습니다.\n",
        "여기서는 몇 가지 예만 보여드리겠습니다.\n",
        "\"\"\"\n",
        "\n",
        "# ALL CAPS\n",
        "claim = \"Pluto is a planet!\"\n",
        "claim.upper()"
      ]
    },
    {
      "cell_type": "code",
      "execution_count": null,
      "metadata": {
        "colab": {
          "base_uri": "https://localhost:8080/",
          "height": 35
        },
        "id": "zazqrPjoae2f",
        "outputId": "a849167e-ea35-4927-f634-bdc6e7b99f4b"
      },
      "outputs": [
        {
          "output_type": "execute_result",
          "data": {
            "text/plain": [
              "'pluto is a planet!'"
            ],
            "application/vnd.google.colaboratory.intrinsic+json": {
              "type": "string"
            }
          },
          "metadata": {},
          "execution_count": 26
        }
      ],
      "source": [
        "# all lowercase\n",
        "claim.lower()"
      ]
    },
    {
      "cell_type": "code",
      "execution_count": null,
      "metadata": {
        "colab": {
          "base_uri": "https://localhost:8080/"
        },
        "id": "Y7K8xOnyae2h",
        "outputId": "2dbcacac-de6b-42dc-99e6-ee6f4a907dfe"
      },
      "outputs": [
        {
          "output_type": "execute_result",
          "data": {
            "text/plain": [
              "11"
            ]
          },
          "metadata": {},
          "execution_count": 27
        }
      ],
      "source": [
        "# Searching for the first index of a substring\n",
        "claim.index('plan') '11번째부터 있다.'"
      ]
    },
    {
      "cell_type": "code",
      "execution_count": null,
      "metadata": {
        "colab": {
          "base_uri": "https://localhost:8080/"
        },
        "id": "9QjgiL32ae2i",
        "outputId": "d9f6abf0-1afc-437d-ec78-e1110b19083e"
      },
      "outputs": [
        {
          "output_type": "execute_result",
          "data": {
            "text/plain": [
              "True"
            ]
          },
          "metadata": {},
          "execution_count": 28
        }
      ],
      "source": [
        "claim.startswith(planet)"
      ]
    },
    {
      "cell_type": "code",
      "execution_count": null,
      "metadata": {
        "colab": {
          "base_uri": "https://localhost:8080/"
        },
        "id": "4cUgbk-cae2j",
        "outputId": "ba3907ac-8daa-48b2-d49f-926df00cd68c"
      },
      "outputs": [
        {
          "output_type": "execute_result",
          "data": {
            "text/plain": [
              "False"
            ]
          },
          "metadata": {},
          "execution_count": 57
        }
      ],
      "source": [
        "# false because of missing exclamation mark\n",
        "claim.endswith('planet') '느낌표가 빠짐, 느낌표를 넣으면 True'"
      ]
    },
    {
      "cell_type": "code",
      "execution_count": null,
      "metadata": {
        "colab": {
          "base_uri": "https://localhost:8080/"
        },
        "id": "8S_3X46Nae2k",
        "outputId": "7ec238f7-e58a-497c-906d-8ed84daf2bf3"
      },
      "outputs": [
        {
          "output_type": "execute_result",
          "data": {
            "text/plain": [
              "['Pluto', 'is', 'a', 'planet!']"
            ]
          },
          "metadata": {},
          "execution_count": 30
        }
      ],
      "source": [
        "\"\"\"\n",
        "문자열과 목록 간 이동: .split() 및 .join()\n",
        "str.split()은 문자열을 더 작은 문자열 목록으로 변환하여 기본적으로 공백을 깨뜨립니다.\n",
        "이것은 하나의 큰 문자열에서 단어 목록으로 이동하는 데 매우 유용합니다.\n",
        "\"\"\"\n",
        "\n",
        "words = claim.split()\n",
        "words"
      ]
    },
    {
      "cell_type": "code",
      "execution_count": null,
      "metadata": {
        "id": "5y66wPPyae2l"
      },
      "outputs": [],
      "source": [
        "\"\"\"\n",
        "때때로 공백이 아닌 다른 것으로 분할하고 싶을 것입니다.\n",
        "\"\"\"\n",
        "\n",
        "datestr = '1956-01-31'\n",
        "year, month, day = datestr.split('-')"
      ]
    },
    {
      "cell_type": "code",
      "execution_count": null,
      "metadata": {
        "colab": {
          "base_uri": "https://localhost:8080/",
          "height": 35
        },
        "id": "5fv6hY3Iae2l",
        "outputId": "07b5d09b-ac6d-4644-9ac5-3c33f4be53dc"
      },
      "outputs": [
        {
          "output_type": "execute_result",
          "data": {
            "text/plain": [
              "'01/31/1956'"
            ],
            "application/vnd.google.colaboratory.intrinsic+json": {
              "type": "string"
            }
          },
          "metadata": {},
          "execution_count": 32
        }
      ],
      "source": [
        "\"\"\"\n",
        "str.join()은 호출된 문자열을 구분 기호로 사용하여 문자열 목록을 하나의 긴 문자열로 바느질하는 다른 방향으로 우리를 안내합니다.\n",
        "\"\"\"\n",
        "\n",
        "'/'.join([month, day, year])"
      ]
    },
    {
      "cell_type": "code",
      "execution_count": null,
      "metadata": {
        "colab": {
          "base_uri": "https://localhost:8080/",
          "height": 35
        },
        "id": "zCU4cjvUae2m",
        "outputId": "c42a1478-9c70-450c-c1bf-7ace0048340a"
      },
      "outputs": [
        {
          "output_type": "execute_result",
          "data": {
            "text/plain": [
              "'PLUTO 👏 IS 👏 A 👏 PLANET!'"
            ],
            "application/vnd.google.colaboratory.intrinsic+json": {
              "type": "string"
            }
          },
          "metadata": {},
          "execution_count": 33
        }
      ],
      "source": [
        "# Yes, we can put unicode characters right in our string literals :)\n",
        "' 👏 '.join([word.upper() for word in words])"
      ]
    },
    {
      "cell_type": "code",
      "execution_count": null,
      "metadata": {
        "colab": {
          "base_uri": "https://localhost:8080/",
          "height": 35
        },
        "id": "XNz_gae4ae2n",
        "outputId": "4b9052fa-a457-4149-f65d-da1d75aa2fff"
      },
      "outputs": [
        {
          "output_type": "execute_result",
          "data": {
            "text/plain": [
              "'Pluto, we miss you.'"
            ],
            "application/vnd.google.colaboratory.intrinsic+json": {
              "type": "string"
            }
          },
          "metadata": {},
          "execution_count": 34
        }
      ],
      "source": [
        "# .format()으로 문자열 만들기\n",
        "\"\"\"\n",
        "Python을 사용하면 문자열을 + 연산자로 연결할 수 있습니다.\n",
        "\"\"\"\n",
        "\n",
        "planet + ', we miss you.'"
      ]
    },
    {
      "cell_type": "code",
      "execution_count": null,
      "metadata": {
        "colab": {
          "base_uri": "https://localhost:8080/",
          "height": 211
        },
        "id": "5xNbFd8Kae2o",
        "outputId": "ef929e07-e3c5-496a-cd0b-6de243869c99"
      },
      "outputs": [
        {
          "output_type": "error",
          "ename": "TypeError",
          "evalue": "ignored",
          "traceback": [
            "\u001b[0;31m---------------------------------------------------------------------------\u001b[0m",
            "\u001b[0;31mTypeError\u001b[0m                                 Traceback (most recent call last)",
            "\u001b[0;32m<ipython-input-35-0006263fdb37>\u001b[0m in \u001b[0;36m<module>\u001b[0;34m\u001b[0m\n\u001b[1;32m      4\u001b[0m \u001b[0;34m\u001b[0m\u001b[0m\n\u001b[1;32m      5\u001b[0m \u001b[0mposition\u001b[0m \u001b[0;34m=\u001b[0m \u001b[0;36m9\u001b[0m\u001b[0;34m\u001b[0m\u001b[0;34m\u001b[0m\u001b[0m\n\u001b[0;32m----> 6\u001b[0;31m \u001b[0mplanet\u001b[0m \u001b[0;34m+\u001b[0m \u001b[0;34m\", you'll always be the \"\u001b[0m \u001b[0;34m+\u001b[0m \u001b[0mposition\u001b[0m \u001b[0;34m+\u001b[0m \u001b[0;34m\"th planet to me.\"\u001b[0m\u001b[0;34m\u001b[0m\u001b[0;34m\u001b[0m\u001b[0m\n\u001b[0m",
            "\u001b[0;31mTypeError\u001b[0m: can only concatenate str (not \"int\") to str"
          ]
        }
      ],
      "source": [
        "\"\"\"\n",
        "문자열이 아닌 객체를 던지려면 먼저 str()을 호출해야 합니다.\n",
        "\"\"\"\n",
        "\n",
        "position = 9\n",
        "planet + \", you'll always be the \" + position + \"th planet to me.\""
      ]
    },
    {
      "cell_type": "code",
      "execution_count": null,
      "metadata": {
        "colab": {
          "base_uri": "https://localhost:8080/",
          "height": 35
        },
        "id": "d-NLwXZoae2p",
        "outputId": "d95b4143-cee1-4b04-a166-5b9d0797e01f"
      },
      "outputs": [
        {
          "output_type": "execute_result",
          "data": {
            "text/plain": [
              "\"Pluto, you'll always be the 9th planet to me.\""
            ],
            "application/vnd.google.colaboratory.intrinsic+json": {
              "type": "string"
            }
          },
          "metadata": {},
          "execution_count": 36
        }
      ],
      "source": [
        "planet + \", you'll always be the \" + str(position) + \"th planet to me.\""
      ]
    },
    {
      "cell_type": "code",
      "execution_count": null,
      "metadata": {
        "colab": {
          "base_uri": "https://localhost:8080/",
          "height": 35
        },
        "id": "HwJIZB1hae2r",
        "outputId": "83fe2e96-6f75-4184-cbcf-5508ef13b662"
      },
      "outputs": [
        {
          "output_type": "execute_result",
          "data": {
            "text/plain": [
              "\"Pluto, you'll always be the 9th planet to me.\""
            ],
            "application/vnd.google.colaboratory.intrinsic+json": {
              "type": "string"
            }
          },
          "metadata": {},
          "execution_count": 37
        }
      ],
      "source": [
        "\"\"\"\n",
        "이것은 읽기 어렵고 입력하기가 짜증나고 있습니다.\n",
        "구조에 str.format().\n",
        "\"\"\"\n",
        "\n",
        "\"{}, you'll always be the {}th planet to me.\".format(planet, position)"
      ]
    },
    {
      "cell_type": "code",
      "execution_count": null,
      "metadata": {
        "colab": {
          "base_uri": "https://localhost:8080/",
          "height": 35
        },
        "id": "GSrOXA3mae2s",
        "outputId": "e7336a48-dce6-465a-fb83-1c9efe859eea"
      },
      "outputs": [
        {
          "output_type": "execute_result",
          "data": {
            "text/plain": [
              "\"Pluto weighs about 1.3e+22 kilograms (0.218% of Earth's mass). It is home to 52,910,390 Plutonians.\""
            ],
            "application/vnd.google.colaboratory.intrinsic+json": {
              "type": "string"
            }
          },
          "metadata": {},
          "execution_count": 38
        }
      ],
      "source": [
        "\"\"\"\n",
        "훨씬 더 깨끗해!\n",
        "삽입하려는 Python 값이 {} 자리 표시자로 표시되는 \"형식 문자열\"에서 .format()을 호출합니다.\n",
        "\n",
        "int에서 위치를 변환하기 위해 str()을 호출할 필요조차 없다는 점에 주목하십시오.\n",
        "format()이 이를 처리합니다.\n",
        "\n",
        "그것이 format()이 한 전부라면 여전히 매우 유용할 것입니다.\n",
        "그러나 결과적으로 훨씬 더 많은 일을 할 수 있습니다.\n",
        "맛보기는 다음과 같습니다.\n",
        "\"\"\"\n",
        "\n",
        "pluto_mass = 1.303 * 10**22\n",
        "earth_mass = 5.9722 * 10**24\n",
        "population = 52910390\n",
        "#         2 decimal points   3 decimal points, format as percent     separate with commas\n",
        "\"{} weighs about {:.2} kilograms ({:.3%} of Earth's mass). It is home to {:,} Plutonians.\".format(\n",
        "    planet, pluto_mass, pluto_mass / earth_mass, population,\n",
        ")"
      ]
    },
    {
      "cell_type": "code",
      "execution_count": null,
      "metadata": {
        "colab": {
          "base_uri": "https://localhost:8080/"
        },
        "id": "yqJMsnfgae2u",
        "outputId": "a85ec918-557b-4883-cbe5-c1f62f3f60c8"
      },
      "outputs": [
        {
          "output_type": "stream",
          "name": "stdout",
          "text": [
            "Pluto's a planet.\n",
            "No, it's a dwarf planet.\n",
            "planet!\n",
            "dwarf planet!\n"
          ]
        }
      ],
      "source": [
        "# Referring to format() arguments by index, starting from 0\n",
        "s = \"\"\"Pluto's a {0}.\n",
        "No, it's a {1}.\n",
        "{0}!\n",
        "{1}!\"\"\".format('planet', 'dwarf planet')\n",
        "print(s)"
      ]
    },
    {
      "cell_type": "code",
      "execution_count": null,
      "metadata": {
        "colab": {
          "base_uri": "https://localhost:8080/",
          "height": 35
        },
        "id": "p6xNTTZUae2v",
        "outputId": "de00e47d-dff5-4e2e-cbc6-a35dccaeb8cd"
      },
      "outputs": [
        {
          "output_type": "execute_result",
          "data": {
            "text/plain": [
              "''"
            ],
            "application/vnd.google.colaboratory.intrinsic+json": {
              "type": "string"
            }
          },
          "metadata": {},
          "execution_count": 40
        }
      ],
      "source": [
        "\"\"\"\n",
        "아마도 str.format에 대한 짧은 책을 쓸 수 있을 것이므로 여기서 멈추고 더 읽을 수 있는 pyformat.info 및 공식 문서를 알려줄 것입니다.\n",
        "\n",
        "https://pyformat.info/\n",
        "https://docs.python.org/3/library/string.html#formatstrings\n",
        "\"\"\"\n",
        "\"\"\"\"\"\""
      ]
    },
    {
      "cell_type": "code",
      "execution_count": null,
      "metadata": {
        "id": "Ok69P3pPae2w"
      },
      "outputs": [],
      "source": [
        "# 딕셔너리\n",
        "\"\"\"\n",
        "딕셔너리는 키를 값에 매핑하기 위한 내장 Python 데이터 구조입니다.\n",
        "\"\"\"\n",
        "\n",
        "numbers = {'one':1, 'two':2, 'three':3}"
      ]
    },
    {
      "cell_type": "code",
      "execution_count": null,
      "metadata": {
        "colab": {
          "base_uri": "https://localhost:8080/"
        },
        "id": "iGRmAuXKae2x",
        "outputId": "a7de1f7c-7c41-4ce7-e708-d14c35fb0c37"
      },
      "outputs": [
        {
          "output_type": "execute_result",
          "data": {
            "text/plain": [
              "1"
            ]
          },
          "metadata": {},
          "execution_count": 42
        }
      ],
      "source": [
        "\"\"\"\n",
        "이 경우 'one', 'two', 'three'가 키이고 1, 2, 3이 해당 값입니다.\n",
        "\n",
        "목록 및 문자열에 대한 인덱싱과 유사한 대괄호 구문을 통해 값에 액세스합니다.\n",
        "\"\"\"\n",
        "\n",
        "numbers['one']"
      ]
    },
    {
      "cell_type": "code",
      "execution_count": null,
      "metadata": {
        "colab": {
          "base_uri": "https://localhost:8080/"
        },
        "id": "A1RMgJgOae2y",
        "outputId": "c05afc27-4d32-40c3-cff6-a98066ce8edf"
      },
      "outputs": [
        {
          "output_type": "execute_result",
          "data": {
            "text/plain": [
              "{'one': 1, 'two': 2, 'three': 3, 'eleven': 11}"
            ]
          },
          "metadata": {},
          "execution_count": 43
        }
      ],
      "source": [
        "\"\"\"\n",
        "동일한 구문을 사용하여 다른 키, 값 쌍을 추가할 수 있습니다.\n",
        "\"\"\"\n",
        "\n",
        "numbers['eleven'] = 11\n",
        "numbers"
      ]
    },
    {
      "cell_type": "code",
      "execution_count": null,
      "metadata": {
        "colab": {
          "base_uri": "https://localhost:8080/"
        },
        "id": "1S3lym6Nae2y",
        "outputId": "f4cc221f-6296-42f5-de11-81da992d8ec0"
      },
      "outputs": [
        {
          "output_type": "execute_result",
          "data": {
            "text/plain": [
              "{'one': 'Pluto', 'two': 2, 'three': 3, 'eleven': 11}"
            ]
          },
          "metadata": {},
          "execution_count": 44
        }
      ],
      "source": [
        "\"\"\"\n",
        "또는 기존 키와 연결된 값을 변경하려면\n",
        "\"\"\"\n",
        "\n",
        "numbers['one'] = 'Pluto'\n",
        "numbers"
      ]
    },
    {
      "cell_type": "code",
      "execution_count": null,
      "metadata": {
        "colab": {
          "base_uri": "https://localhost:8080/"
        },
        "id": "HqyEj_M9ae2z",
        "outputId": "63dd4ad5-71be-4dc2-b950-21872c149886"
      },
      "outputs": [
        {
          "output_type": "execute_result",
          "data": {
            "text/plain": [
              "{'Mercury': 'M',\n",
              " 'Venus': 'V',\n",
              " 'Earth': 'E',\n",
              " 'Mars': 'M',\n",
              " 'Jupiter': 'J',\n",
              " 'Saturn': 'S',\n",
              " 'Uranus': 'U',\n",
              " 'Neptune': 'N'}"
            ]
          },
          "metadata": {},
          "execution_count": 45
        }
      ],
      "source": [
        "\"\"\"\n",
        "Python에는 이전 자습서에서 본 list comprehension과 유사한 구문을 사용하는 딕셔너리 comprehension이 있습니다.\n",
        "\"\"\"\n",
        "\n",
        "planets = ['Mercury', 'Venus', 'Earth', 'Mars', 'Jupiter', 'Saturn', 'Uranus', 'Neptune']\n",
        "planet_to_initial = {planet: planet[0] for planet in planets}\n",
        "planet_to_initial"
      ]
    },
    {
      "cell_type": "code",
      "execution_count": null,
      "metadata": {
        "colab": {
          "base_uri": "https://localhost:8080/"
        },
        "id": "aIqSSNHuae20",
        "outputId": "067c5a30-882e-41e1-e951-a7095140f94b"
      },
      "outputs": [
        {
          "output_type": "execute_result",
          "data": {
            "text/plain": [
              "True"
            ]
          },
          "metadata": {},
          "execution_count": 46
        }
      ],
      "source": [
        "\"\"\"\n",
        "in 연산자는 무언가가 사전의 키인지 여부를 알려줍니다.\n",
        "\"\"\"\n",
        "\n",
        "'Saturn' in planet_to_initial"
      ]
    },
    {
      "cell_type": "code",
      "execution_count": null,
      "metadata": {
        "colab": {
          "base_uri": "https://localhost:8080/"
        },
        "id": "6wweqhbeae21",
        "outputId": "4c5a4b33-b853-4553-9ed6-a922782c0bfe"
      },
      "outputs": [
        {
          "output_type": "execute_result",
          "data": {
            "text/plain": [
              "False"
            ]
          },
          "metadata": {},
          "execution_count": 47
        }
      ],
      "source": [
        "'Betelgeuse' in planet_to_initial"
      ]
    },
    {
      "cell_type": "code",
      "execution_count": null,
      "metadata": {
        "colab": {
          "base_uri": "https://localhost:8080/"
        },
        "id": "WHsEzp7hae22",
        "outputId": "b6cc64cb-11b2-4425-cb82-8782a8a3d795"
      },
      "outputs": [
        {
          "output_type": "stream",
          "name": "stdout",
          "text": [
            "one = Pluto\n",
            "two = 2\n",
            "three = 3\n",
            "eleven = 11\n"
          ]
        }
      ],
      "source": [
        "\"\"\"\n",
        "사전에 대한 for 루프는 해당 키를 반복합니다.\n",
        "\"\"\"\n",
        "\n",
        "for k in numbers:\n",
        "    print(\"{} = {}\".format(k, numbers[k]))"
      ]
    },
    {
      "cell_type": "code",
      "execution_count": null,
      "metadata": {
        "colab": {
          "base_uri": "https://localhost:8080/",
          "height": 35
        },
        "id": "8xsH0qN6ae22",
        "outputId": "6cd3662b-2d8a-4e37-8960-701a860f6cc4"
      },
      "outputs": [
        {
          "output_type": "execute_result",
          "data": {
            "text/plain": [
              "'E J M M N S U V'"
            ],
            "application/vnd.google.colaboratory.intrinsic+json": {
              "type": "string"
            }
          },
          "metadata": {},
          "execution_count": 49
        }
      ],
      "source": [
        "\"\"\"\n",
        "각각 dict.keys() 및 dict.values()를 사용하여 모든 키 또는 모든 값의 컬렉션에 액세스할 수 있습니다.\n",
        "\"\"\"\n",
        "\n",
        "# Get all the initials, sort them alphabetically, and put them in a space-separated string.\n",
        "' '.join(sorted(planet_to_initial.values()))"
      ]
    },
    {
      "cell_type": "code",
      "execution_count": null,
      "metadata": {
        "colab": {
          "base_uri": "https://localhost:8080/"
        },
        "id": "UM960csXae23",
        "outputId": "e5860df1-be3a-47e1-c1e2-926bdcfbabe2"
      },
      "outputs": [
        {
          "output_type": "stream",
          "name": "stdout",
          "text": [
            "   Mercury begins with \"M\"\n",
            "     Venus begins with \"V\"\n",
            "     Earth begins with \"E\"\n",
            "      Mars begins with \"M\"\n",
            "   Jupiter begins with \"J\"\n",
            "    Saturn begins with \"S\"\n",
            "    Uranus begins with \"U\"\n",
            "   Neptune begins with \"N\"\n"
          ]
        }
      ],
      "source": [
        "\"\"\"\n",
        "매우 유용한 dict.items() 메서드를 사용하면 사전의 키와 값을 동시에 반복할 수 있습니다.\n",
        "(Python 전문 용어에서 항목은 키, 값 쌍을 나타냅니다.)\n",
        "\"\"\"\n",
        "\n",
        "for planet, initial in planet_to_initial.items():\n",
        "    print(\"{} begins with \\\"{}\\\"\".format(planet.rjust(10), initial))"
      ]
    },
    {
      "cell_type": "code",
      "execution_count": null,
      "metadata": {
        "colab": {
          "base_uri": "https://localhost:8080/"
        },
        "id": "1On6Y7Urae25",
        "outputId": "043b627d-1e4b-492f-c24f-8b44a33c1010"
      },
      "outputs": [
        {
          "output_type": "stream",
          "name": "stdout",
          "text": [
            "Help on class dict in module builtins:\n",
            "\n",
            "class dict(object)\n",
            " |  dict() -> new empty dictionary\n",
            " |  dict(mapping) -> new dictionary initialized from a mapping object's\n",
            " |      (key, value) pairs\n",
            " |  dict(iterable) -> new dictionary initialized as if via:\n",
            " |      d = {}\n",
            " |      for k, v in iterable:\n",
            " |          d[k] = v\n",
            " |  dict(**kwargs) -> new dictionary initialized with the name=value pairs\n",
            " |      in the keyword argument list.  For example:  dict(one=1, two=2)\n",
            " |  \n",
            " |  Built-in subclasses:\n",
            " |      StgDict\n",
            " |  \n",
            " |  Methods defined here:\n",
            " |  \n",
            " |  __contains__(self, key, /)\n",
            " |      True if the dictionary has the specified key, else False.\n",
            " |  \n",
            " |  __delitem__(self, key, /)\n",
            " |      Delete self[key].\n",
            " |  \n",
            " |  __eq__(self, value, /)\n",
            " |      Return self==value.\n",
            " |  \n",
            " |  __ge__(self, value, /)\n",
            " |      Return self>=value.\n",
            " |  \n",
            " |  __getattribute__(self, name, /)\n",
            " |      Return getattr(self, name).\n",
            " |  \n",
            " |  __getitem__(...)\n",
            " |      x.__getitem__(y) <==> x[y]\n",
            " |  \n",
            " |  __gt__(self, value, /)\n",
            " |      Return self>value.\n",
            " |  \n",
            " |  __init__(self, /, *args, **kwargs)\n",
            " |      Initialize self.  See help(type(self)) for accurate signature.\n",
            " |  \n",
            " |  __ior__(self, value, /)\n",
            " |      Return self|=value.\n",
            " |  \n",
            " |  __iter__(self, /)\n",
            " |      Implement iter(self).\n",
            " |  \n",
            " |  __le__(self, value, /)\n",
            " |      Return self<=value.\n",
            " |  \n",
            " |  __len__(self, /)\n",
            " |      Return len(self).\n",
            " |  \n",
            " |  __lt__(self, value, /)\n",
            " |      Return self<value.\n",
            " |  \n",
            " |  __ne__(self, value, /)\n",
            " |      Return self!=value.\n",
            " |  \n",
            " |  __or__(self, value, /)\n",
            " |      Return self|value.\n",
            " |  \n",
            " |  __repr__(self, /)\n",
            " |      Return repr(self).\n",
            " |  \n",
            " |  __reversed__(self, /)\n",
            " |      Return a reverse iterator over the dict keys.\n",
            " |  \n",
            " |  __ror__(self, value, /)\n",
            " |      Return value|self.\n",
            " |  \n",
            " |  __setitem__(self, key, value, /)\n",
            " |      Set self[key] to value.\n",
            " |  \n",
            " |  __sizeof__(...)\n",
            " |      D.__sizeof__() -> size of D in memory, in bytes\n",
            " |  \n",
            " |  clear(...)\n",
            " |      D.clear() -> None.  Remove all items from D.\n",
            " |  \n",
            " |  copy(...)\n",
            " |      D.copy() -> a shallow copy of D\n",
            " |  \n",
            " |  get(self, key, default=None, /)\n",
            " |      Return the value for key if key is in the dictionary, else default.\n",
            " |  \n",
            " |  items(...)\n",
            " |      D.items() -> a set-like object providing a view on D's items\n",
            " |  \n",
            " |  keys(...)\n",
            " |      D.keys() -> a set-like object providing a view on D's keys\n",
            " |  \n",
            " |  pop(...)\n",
            " |      D.pop(k[,d]) -> v, remove specified key and return the corresponding value.\n",
            " |      \n",
            " |      If key is not found, default is returned if given, otherwise KeyError is raised\n",
            " |  \n",
            " |  popitem(self, /)\n",
            " |      Remove and return a (key, value) pair as a 2-tuple.\n",
            " |      \n",
            " |      Pairs are returned in LIFO (last-in, first-out) order.\n",
            " |      Raises KeyError if the dict is empty.\n",
            " |  \n",
            " |  setdefault(self, key, default=None, /)\n",
            " |      Insert key with a value of default if key is not in the dictionary.\n",
            " |      \n",
            " |      Return the value for key if key is in the dictionary, else default.\n",
            " |  \n",
            " |  update(...)\n",
            " |      D.update([E, ]**F) -> None.  Update D from dict/iterable E and F.\n",
            " |      If E is present and has a .keys() method, then does:  for k in E: D[k] = E[k]\n",
            " |      If E is present and lacks a .keys() method, then does:  for k, v in E: D[k] = v\n",
            " |      In either case, this is followed by: for k in F:  D[k] = F[k]\n",
            " |  \n",
            " |  values(...)\n",
            " |      D.values() -> an object providing a view on D's values\n",
            " |  \n",
            " |  ----------------------------------------------------------------------\n",
            " |  Class methods defined here:\n",
            " |  \n",
            " |  __class_getitem__(...) from builtins.type\n",
            " |      See PEP 585\n",
            " |  \n",
            " |  fromkeys(iterable, value=None, /) from builtins.type\n",
            " |      Create a new dictionary with keys from iterable and values set to value.\n",
            " |  \n",
            " |  ----------------------------------------------------------------------\n",
            " |  Static methods defined here:\n",
            " |  \n",
            " |  __new__(*args, **kwargs) from builtins.type\n",
            " |      Create and return a new object.  See help(type) for accurate signature.\n",
            " |  \n",
            " |  ----------------------------------------------------------------------\n",
            " |  Data and other attributes defined here:\n",
            " |  \n",
            " |  __hash__ = None\n",
            "\n"
          ]
        }
      ],
      "source": [
        "\"\"\"\n",
        "사전 방법의 전체 목록을 읽으려면 아래의 \"출력\" 버튼을 클릭하여 전체 도움말 페이지를 읽거나 공식 온라인 문서를 확인하십시오.\n",
        "\n",
        "https://docs.python.org/3/library/stdtypes.html#dict\n",
        "\"\"\"\n",
        "\n",
        "help(dict)"
      ]
    }
  ],
  "metadata": {
    "kernelspec": {
      "display_name": "Python 3",
      "language": "python",
      "name": "python3"
    },
    "language_info": {
      "codemirror_mode": {
        "name": "ipython",
        "version": 3
      },
      "file_extension": ".py",
      "mimetype": "text/x-python",
      "name": "python",
      "nbconvert_exporter": "python",
      "pygments_lexer": "ipython3",
      "version": "3.11.2"
    },
    "orig_nbformat": 4,
    "colab": {
      "provenance": [],
      "include_colab_link": true
    }
  },
  "nbformat": 4,
  "nbformat_minor": 0
}