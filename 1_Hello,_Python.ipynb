{
  "cells": [
    {
      "cell_type": "markdown",
      "metadata": {
        "id": "view-in-github",
        "colab_type": "text"
      },
      "source": [
        "<a href=\"https://colab.research.google.com/github/RYEONGRYEONG/python-/blob/main/1_Hello%2C_Python.ipynb\" target=\"_parent\"><img src=\"https://colab.research.google.com/assets/colab-badge.svg\" alt=\"Open In Colab\"/></a>"
      ]
    },
    {
      "cell_type": "code",
      "execution_count": null,
      "metadata": {
        "colab": {
          "base_uri": "https://localhost:8080/",
          "height": 35
        },
        "id": "j5JU107CRPlz",
        "outputId": "b8fb478b-8281-44ec-92df-9ccfc4846d75"
      },
      "outputs": [
        {
          "output_type": "execute_result",
          "data": {
            "text/plain": [
              "''"
            ],
            "application/vnd.google.colaboratory.intrinsic+json": {
              "type": "string"
            }
          },
          "metadata": {},
          "execution_count": 5
        }
      ],
      "source": [
        ",./# Hello, Python\n",
        "    # Python 구문, 변수 할당 및 숫자에 대한 빠른 소개\n",
        "\n",
        "\"\"\"\n",
        "이 과정에서는 데이터 과학에 Python을 사용하는 데 필요한 핵심 Python 기술을 다룹니다.\n",
        "이 과정은 Python을 레퍼토리에 추가하려는 이전 코딩 경험이 있는 사람에게 이상적입니다.\n",
        "(코딩이 처음이라면 Python을 시작하려는 완전 초보자를 위해 설계된 Intro to Programming 과정을 확인하는 것이 좋습니다.)\n",
        "\n",
        "Python 구문, 변수 할당 및 산술 연산자에 대한 간략한 개요부터 시작하겠습니다.\n",
        "\"\"\"\n",
        "\"\"\"\"\"\""
      ]
    },
    {
      "cell_type": "code",
      "source": [],
      "metadata": {
        "id": "j1sECVUAjhHr"
      },
      "execution_count": null,
      "outputs": []
    },
    {
      "cell_type": "code",
      "execution_count": null,
      "metadata": {
        "colab": {
          "base_uri": "https://localhost:8080/",
          "height": 90
        },
        "id": "RdX577TARPl2",
        "outputId": "8615d93e-c2e9-4ee2-abc6-c0c46e57ce8d"
      },
      "outputs": [
        {
          "output_type": "stream",
          "name": "stdout",
          "text": [
            "0\n",
            "But I don't want ANY spam!\n",
            "Spam Spam Spam Spam \n"
          ]
        },
        {
          "output_type": "execute_result",
          "data": {
            "text/plain": [
              "''"
            ],
            "application/vnd.google.colaboratory.intrinsic+json": {
              "type": "string"
            }
          },
          "metadata": {},
          "execution_count": 6
        }
      ],
      "source": [
        "# Hello, Python!\n",
        "\"\"\"\n",
        "Python은 영국 코미디 극단 Monty Python의 이름을 따서 명명되었으므로 첫 번째 Python 프로그램은 Spam에 대한 그들의 촌극에 경의를 표할 것입니다.\n",
        "\n",
        "재미삼아 아래 코드를 읽고 실행 시 어떤 일이 일어날지 예측해 보세요.\n",
        "(모른다면 괜찮습니다!)\n",
        "\n",
        "그런 다음 \"출력\" 버튼을 클릭하여 프로그램 결과를 확인합니다.\n",
        "\"\"\"\n",
        "\n",
        "spam_amount = 0\n",
        "print(spam_amount)\n",
        "\n",
        "# Ordering Spam, egg, Spam, Spam, bacon and Spam (4 more servings of Spam)\n",
        "spam_amount = spam_amount + 4\n",
        "\n",
        "if spam_amount > 0:\n",
        "    print(\"But I don't want ANY spam!\")\n",
        "\n",
        "viking_song = \"Spam \" * spam_amount\n",
        "print(viking_song)\n",
        "\n",
        "\"\"\"\n",
        "여기서 풀어야 할 것이 많습니다!\n",
        "이 바보같은 프로그램은 파이썬 코드가 어떻게 생겼고 어떻게 작동하는지에 대한 많은 중요한 측면을 보여줍니다.\n",
        "위에서 아래로 코드를 검토해 봅시다.\n",
        "\"\"\"\n",
        "\"\"\"\"\"\""
      ]
    },
    {
      "cell_type": "code",
      "execution_count": null,
      "metadata": {
        "colab": {
          "base_uri": "https://localhost:8080/",
          "height": 35
        },
        "id": "76Zmz67ZRPl3",
        "outputId": "25eb16c6-ea12-4d95-de5a-be2531728f9f"
      },
      "outputs": [
        {
          "output_type": "execute_result",
          "data": {
            "text/plain": [
              "''"
            ],
            "application/vnd.google.colaboratory.intrinsic+json": {
              "type": "string"
            }
          },
          "metadata": {},
          "execution_count": 7
        }
      ],
      "source": [
        "spam_amount = 0\n",
        "\n",
        "\"\"\"\n",
        "변수 할당: 여기에서는 spam_amount라는 변수를 만들고 할당 연산자라고 하는 =를 사용하여 값 0을 할당합니다.\n",
        "\n",
        "    참고: 특정 다른 언어(예: Java 또는 C++)로 프로그래밍한 경우 Python에서 여기에서 수행할 필요가 없는 몇 가지 사항을 알아차릴 수 있습니다.\n",
        "\n",
        "        spam_amount를 할당하기 전에 \"선언\"할 필요가 없습니다.\n",
        "        spam_amount가 어떤 유형의 값을 참조할지 Python에 알릴 필요가 없습니다. 실제로 문자열이나 부울과 같은 다른 종류를 참조하기 위해 spam_amount를 재할당할 수도 있습니다.\n",
        "\"\"\"\n",
        "\"\"\"\"\"\""
      ]
    },
    {
      "cell_type": "code",
      "execution_count": null,
      "metadata": {
        "colab": {
          "base_uri": "https://localhost:8080/",
          "height": 54
        },
        "id": "TppiickORPl4",
        "outputId": "6facfaa2-a177-4210-b057-a8c456a98b9c"
      },
      "outputs": [
        {
          "output_type": "stream",
          "name": "stdout",
          "text": [
            "0\n"
          ]
        },
        {
          "output_type": "execute_result",
          "data": {
            "text/plain": [
              "''"
            ],
            "application/vnd.google.colaboratory.intrinsic+json": {
              "type": "string"
            }
          },
          "metadata": {},
          "execution_count": 8
        }
      ],
      "source": [
        "print(spam_amount)\n",
        "\n",
        "\"\"\"\n",
        "함수 호출:. print는 전달된 값을 화면에 표시하는 Python 함수입니다.\n",
        "이름 뒤에 괄호를 넣고 함수에 대한 입력(또는 인수)을 해당 괄호 안에 넣어 함수를 호출합니다.\n",
        "\"\"\"\n",
        "\"\"\"\"\"\""
      ]
    },
    {
      "cell_type": "code",
      "execution_count": null,
      "metadata": {
        "colab": {
          "base_uri": "https://localhost:8080/",
          "height": 35
        },
        "id": "y5EUSQvkRPl5",
        "outputId": "a616069d-d688-4a79-dd57-259b312875dc"
      },
      "outputs": [
        {
          "output_type": "execute_result",
          "data": {
            "text/plain": [
              "''"
            ],
            "application/vnd.google.colaboratory.intrinsic+json": {
              "type": "string"
            }
          },
          "metadata": {},
          "execution_count": 9
        }
      ],
      "source": [
        "# Ordering Spam, egg, Spam, Spam, bacon and Spam (4 more servings of Spam)\n",
        "spam_amount = spam_amount + 4\n",
        "\n",
        "\"\"\"\n",
        "위의 첫 번째 줄은 주석입니다.\n",
        "Python에서 주석은 # 기호로 시작합니다.\n",
        "\n",
        "다음으로 재할당의 예를 봅니다.\n",
        "기존 변수의 값을 재할당하는 것은 변수를 만드는 것과 같습니다.\n",
        "여전히 = 할당 연산자를 사용합니다.\n",
        "\n",
        "이 경우 spam_amount에 할당하는 값에는 이전 값에 대한 간단한 산술이 포함됩니다.\n",
        "이 줄을 만나면 Python은 = (0 + 4 = 4)의 오른쪽에 있는 식을 평가한 다음 해당 값을 왼쪽에 있는 변수에 할당합니다.\n",
        "\"\"\"\n",
        "\"\"\"\"\"\""
      ]
    },
    {
      "cell_type": "code",
      "execution_count": null,
      "metadata": {
        "colab": {
          "base_uri": "https://localhost:8080/",
          "height": 72
        },
        "id": "DRTSLy6oRPl5",
        "outputId": "8e999028-add7-4f24-ee62-8b62c1178f96"
      },
      "outputs": [
        {
          "output_type": "stream",
          "name": "stdout",
          "text": [
            "But I don't want ANY spam!\n",
            "Spam Spam Spam\n"
          ]
        },
        {
          "output_type": "execute_result",
          "data": {
            "text/plain": [
              "''"
            ],
            "application/vnd.google.colaboratory.intrinsic+json": {
              "type": "string"
            }
          },
          "metadata": {},
          "execution_count": 10
        }
      ],
      "source": [
        "if spam_amount > 0:\n",
        "    print(\"But I don't want ANY spam!\")\n",
        "\n",
        "viking_song = \"Spam Spam Spam\"\n",
        "print(viking_song)\n",
        "\n",
        "\"\"\"\n",
        "나중에 \"조건부\"에 대해 많이 이야기하지는 않겠지만 이전에 코딩을 해본 적이 없더라도 이것이 무엇을 하는지 짐작할 수 있을 것입니다.\n",
        "Python은 가독성과 단순성으로 높이 평가됩니다.\n",
        "\n",
        "어떤 코드가 if에 속하는지 표시한 방법에 유의하십시오.\n",
        "\"But I don't want ANY spam!\" spam_amount가 양수인 경우에만 인쇄됩니다.\n",
        "그러나 이후 코드(예: print(viking_song))는 무슨 일이 있어도 실행되어야 합니다.\n",
        "우리(그리고 파이썬)는 그것을 어떻게 압니까?\n",
        "\n",
        "if 줄 끝에 있는 콜론(:)은 새 코드 블록이 시작되고 있음을 나타냅니다.\n",
        "들여쓰기된 후속 줄은 해당 코드 블록의 일부입니다.\n",
        "\n",
        "    참고: 이전에 코딩을 해본 적이 있다면 일부 다른 언어에서는 {중괄호}를 사용하여 코드 블록의 시작과 끝을 표시한다는 것을 알고 있을 것입니다.\n",
        "    Python의 의미 있는 공백 사용은 다른 언어에 익숙한 프로그래머에게는 놀랄 수 있지만 실제로는 코드 블록 들여쓰기를 강제하지 않는 언어보다 더 일관되고 읽기 쉬운 코드로 이어질 수 있습니다.\n",
        "\n",
        "viking_song을 다루는 이후 행은 추가 4개의 공백으로 들여쓰기되지 않았으므로 if의 코드 블록의 일부가 아닙니다.\n",
        "나중에 함수를 정의하고 루프를 사용할 때 들여쓰기된 코드 블록의 더 많은 예를 보게 될 것입니다.\n",
        "\"\"\"\n",
        "\"\"\"\"\"\""
      ]
    },
    {
      "cell_type": "code",
      "execution_count": null,
      "metadata": {
        "colab": {
          "base_uri": "https://localhost:8080/",
          "height": 35
        },
        "id": "725mQdFMRPl6",
        "outputId": "61493d79-5d86-4f2b-d48a-4029b928e757"
      },
      "outputs": [
        {
          "output_type": "execute_result",
          "data": {
            "text/plain": [
              "''"
            ],
            "application/vnd.google.colaboratory.intrinsic+json": {
              "type": "string"
            }
          },
          "metadata": {},
          "execution_count": 11
        }
      ],
      "source": [
        "\"\"\"\n",
        "이 코드 스니펫은 Python에서 문자열을 처음 본 것이기도 합니다.\n",
        "\"\"\"\n",
        "\n",
        "\"But I don't want ANY spam!\"\n",
        "#'But I don't want ANY spam!'\n",
        "\"But I don\\'t want ANY spam!\"\n",
        "\n",
        "\"\"\"\n",
        "문자열은 큰따옴표 또는 작은따옴표로 표시할 수 있습니다.\n",
        "(그러나 이 특정 문자열에는 작은따옴표 문자가 포함되어 있으므로 주의하지 않는 한 문자열을 작은따옴표로 둘러싸서 Python을 혼동할 수 있습니다.)\n",
        "\"\"\"\n",
        "\"\"\"\"\"\""
      ]
    },
    {
      "cell_type": "code",
      "execution_count": null,
      "metadata": {
        "colab": {
          "base_uri": "https://localhost:8080/",
          "height": 54
        },
        "id": "aC8QixgVRPl7",
        "outputId": "488cae59-cebd-4ca8-b687-c6b6737313ad"
      },
      "outputs": [
        {
          "output_type": "stream",
          "name": "stdout",
          "text": [
            "Spam Spam Spam Spam \n"
          ]
        },
        {
          "output_type": "execute_result",
          "data": {
            "text/plain": [
              "''"
            ],
            "application/vnd.google.colaboratory.intrinsic+json": {
              "type": "string"
            }
          },
          "metadata": {},
          "execution_count": 12
        }
      ],
      "source": [
        "viking_song = \"Spam \" * spam_amount\n",
        "print(viking_song)\n",
        "\n",
        "\"\"\"\n",
        "* 연산자는 두 개의 숫자를 곱하는 데 사용할 수 있지만(3 * 3은 9로 평가됨) 문자열을 숫자로 곱하여 여러 번 반복된 버전을 얻을 수도 있습니다.\n",
        "Python은 * 및 +와 같은 연산자가 적용되는 항목의 종류에 따라 다른 의미를 갖는 이와 같은 몇 가지 건방진 시간 절약 트릭을 제공합니다.\n",
        "(이에 대한 기술 용어는 연산자 오버로딩입니다.)\n",
        "\"\"\"\n",
        "\"\"\"\"\"\""
      ]
    },
    {
      "cell_type": "code",
      "execution_count": null,
      "metadata": {
        "colab": {
          "base_uri": "https://localhost:8080/",
          "height": 35
        },
        "id": "ZtDZ65y6RPl7",
        "outputId": "41b8898b-6799-4db4-b524-600ed934a293"
      },
      "outputs": [
        {
          "output_type": "execute_result",
          "data": {
            "text/plain": [
              "''"
            ],
            "application/vnd.google.colaboratory.intrinsic+json": {
              "type": "string"
            }
          },
          "metadata": {},
          "execution_count": 13
        }
      ],
      "source": [
        "# Python의 숫자와 산술\n",
        "\"\"\"\n",
        "    우리는 이미 위의 숫자를 포함하는 변수의 예를 보았습니다.\n",
        "\"\"\"\n",
        "\"\"\"\"\"\""
      ]
    },
    {
      "cell_type": "code",
      "execution_count": null,
      "metadata": {
        "colab": {
          "base_uri": "https://localhost:8080/",
          "height": 35
        },
        "id": "dsQKqdd1RPl8",
        "outputId": "be7c1263-276f-4c30-cc0b-c17913f9dd6f"
      },
      "outputs": [
        {
          "output_type": "execute_result",
          "data": {
            "text/plain": [
              "''"
            ],
            "application/vnd.google.colaboratory.intrinsic+json": {
              "type": "string"
            }
          },
          "metadata": {},
          "execution_count": 14
        }
      ],
      "source": [
        "spam_amount = 0\n",
        "\n",
        "\"\"\"\n",
        "\"Number\"는 그러한 종류의 이름에 대한 훌륭한 비공식적 이름이지만 좀 더 기술적으로 알고 싶다면 spam_amount가 어떤 유형인지 설명하는 방법을 Python에 요청할 수 있습니다.\n",
        "\"\"\"\n",
        "\"\"\"\"\"\""
      ]
    },
    {
      "cell_type": "code",
      "execution_count": null,
      "metadata": {
        "colab": {
          "base_uri": "https://localhost:8080/"
        },
        "id": "Qa3Bma2DRPl9",
        "outputId": "fd331878-9193-4d53-ad49-d4d50f7f6b73"
      },
      "outputs": [
        {
          "output_type": "execute_result",
          "data": {
            "text/plain": [
              "int"
            ]
          },
          "metadata": {},
          "execution_count": 15
        }
      ],
      "source": [
        "type(spam_amount)"
      ]
    },
    {
      "cell_type": "code",
      "source": [
        "\"\"\"\n",
        "int - 정수의 줄임말입니다.\n",
        "파이썬에서 흔히 볼 수 있는 또 다른 종류의 숫자가 있습니다:\n",
        "\"\"\"\n",
        "\"\"\"\"\"\""
      ],
      "metadata": {
        "colab": {
          "base_uri": "https://localhost:8080/",
          "height": 35
        },
        "id": "iddpAmGRV8Tm",
        "outputId": "005b1df8-cec0-45b9-b6cb-e62ee2cb624d"
      },
      "execution_count": null,
      "outputs": [
        {
          "output_type": "execute_result",
          "data": {
            "text/plain": [
              "''"
            ],
            "application/vnd.google.colaboratory.intrinsic+json": {
              "type": "string"
            }
          },
          "metadata": {},
          "execution_count": 16
        }
      ]
    },
    {
      "cell_type": "code",
      "execution_count": null,
      "metadata": {
        "colab": {
          "base_uri": "https://localhost:8080/"
        },
        "id": "OvoXMrjSRPl9",
        "outputId": "9f3b63f6-8bb8-4e24-ee66-22e9645c89a9"
      },
      "outputs": [
        {
          "output_type": "execute_result",
          "data": {
            "text/plain": [
              "float"
            ]
          },
          "metadata": {},
          "execution_count": 30
        }
      ],
      "source": [
        "type(19.95)"
      ]
    },
    {
      "cell_type": "code",
      "source": [
        "\"\"\"\n",
        "float는 소수점이 있는 숫자입니다.\n",
        "무게나 비율 같은 것을 나타내는 데 매우 유용합니다.\n",
        "\n",
        "type()은 우리가 본 두 번째 내장 함수(print() 이후)이며 기억해야 할 또 다른 좋은 함수입니다.\n",
        "파이썬에게 \"이게 뭐야?\"라고 물어볼 수 있다는 것은 매우 유용합니다.\n",
        "\"\"\"\n",
        "\"\"\"\"\"\""
      ],
      "metadata": {
        "id": "Ai7G0K3AWCuM",
        "outputId": "0669fd8e-f171-471b-8294-34980003a193",
        "colab": {
          "base_uri": "https://localhost:8080/",
          "height": 35
        }
      },
      "execution_count": null,
      "outputs": [
        {
          "output_type": "execute_result",
          "data": {
            "text/plain": [
              "''"
            ],
            "application/vnd.google.colaboratory.intrinsic+json": {
              "type": "string"
            }
          },
          "metadata": {},
          "execution_count": 31
        }
      ]
    },
    {
      "cell_type": "code",
      "execution_count": null,
      "metadata": {
        "colab": {
          "base_uri": "https://localhost:8080/",
          "height": 35
        },
        "id": "UsgBlPJIRPl9",
        "outputId": "aec6e0a4-7bf5-4291-e82c-4be960626595"
      },
      "outputs": [
        {
          "output_type": "execute_result",
          "data": {
            "text/plain": [
              "''"
            ],
            "application/vnd.google.colaboratory.intrinsic+json": {
              "type": "string"
            }
          },
          "metadata": {},
          "execution_count": 18
        }
      ],
      "source": [
        "\"\"\"\n",
        "숫자로 하고 싶은 자연스러운 일은 산술을 수행하는 것입니다.\n",
        "우리는 더하기를 위한 + 연산자와 곱하기를 위한 * 연산자를 보았습니다.\n",
        "Python은 계산기의 나머지 기본 버튼에 대해서도 다루었습니다.\n",
        "\n",
        "Operator      Name                Description\n",
        "a + b         Addition\t          Sum of a and b\n",
        "a - b\t        Subtraction\t        Difference of a and b\n",
        "a * b\t        Multiplication\t    Product of a and b\n",
        "a / b\t        True division\t      Quotient of a and b\n",
        "a // b\t      Floor division\t    Quotient of a and b, removing fractional parts\n",
        "a % b\t        Modulus\t            Integer remainder after division of a by b\n",
        "a ** b\t      Exponentiation\t    a raised to the power of b\n",
        "-a\t          Negation\t          ㄴThe negative of a\n",
        "\n",
        "여기서 한 가지 흥미로운 점은 계산기에 나눗셈 버튼이 하나만 있는 반면 Python은 두 종류를 할 수 있다는 것입니다.\n",
        "\"True division\"은 기본적으로 계산기가 하는 일입니다.\n",
        "\"\"\"\n",
        "\"\"\"\"\"\""
      ]
    },
    {
      "cell_type": "code",
      "execution_count": null,
      "metadata": {
        "colab": {
          "base_uri": "https://localhost:8080/",
          "height": 72
        },
        "id": "jwNuJ7A5RPl-",
        "outputId": "1b82e154-e327-40f9-d043-a34624d5827b"
      },
      "outputs": [
        {
          "output_type": "stream",
          "name": "stdout",
          "text": [
            "2.5\n",
            "3.0\n"
          ]
        },
        {
          "output_type": "execute_result",
          "data": {
            "text/plain": [
              "''"
            ],
            "application/vnd.google.colaboratory.intrinsic+json": {
              "type": "string"
            }
          },
          "metadata": {},
          "execution_count": 19
        }
      ],
      "source": [
        "print(5 / 2)\n",
        "print(6 / 2)\n",
        "\n",
        "\"\"\"\n",
        "그것은 항상 우리에게 플로트를 제공합니다.\n",
        "\"\"\"\n",
        "\"\"\"\"\"\""
      ]
    },
    {
      "cell_type": "code",
      "execution_count": null,
      "metadata": {
        "colab": {
          "base_uri": "https://localhost:8080/"
        },
        "id": "s0gvB_zZRPl_",
        "outputId": "4046a279-f9ee-4a45-ce00-2e2d51f74d7d"
      },
      "outputs": [
        {
          "output_type": "stream",
          "name": "stdout",
          "text": [
            "2\n",
            "3\n"
          ]
        }
      ],
      "source": [
        "\"\"\"\n",
        "'//' 연산자는 다음 정수로 내림한 결과를 제공합니다.\n",
        "\"\"\"\n",
        "\n",
        "print(5 // 2)\n",
        "print(6 // 2)"
      ]
    },
    {
      "cell_type": "code",
      "execution_count": null,
      "metadata": {
        "colab": {
          "base_uri": "https://localhost:8080/",
          "height": 35
        },
        "id": "tn_6eiUORPl_",
        "outputId": "ab4a342b-d1df-485e-9936-cc0f4c4a1954"
      },
      "outputs": [
        {
          "output_type": "execute_result",
          "data": {
            "text/plain": [
              "''"
            ],
            "application/vnd.google.colaboratory.intrinsic+json": {
              "type": "string"
            }
          },
          "metadata": {},
          "execution_count": 21
        }
      ],
      "source": [
        "\"\"\"\n",
        "이것이 어디에 유용할지 생각해 볼 수 있습니까? 코딩 챌린지에서 곧 예를 볼 수 있습니다.\n",
        "\"\"\"\n",
        "\"\"\"\"\"\""
      ]
    },
    {
      "cell_type": "code",
      "execution_count": null,
      "metadata": {
        "colab": {
          "base_uri": "https://localhost:8080/",
          "height": 35
        },
        "id": "401pZMnSRPmA",
        "outputId": "dbe0935c-c4c2-4d2c-ef01-1385d0028bf2"
      },
      "outputs": [
        {
          "output_type": "execute_result",
          "data": {
            "text/plain": [
              "''"
            ],
            "application/vnd.google.colaboratory.intrinsic+json": {
              "type": "string"
            }
          },
          "metadata": {},
          "execution_count": 22
        }
      ],
      "source": [
        "# 작업 순서\n",
        "\"\"\"\n",
        "우리가 초등학교에서 배운 산술은 연산이 평가되는 순서에 대한 관습이 있습니다.\n",
        "어떤 사람들은 PEMDAS - Parentheses(괄호), Exponents(지수), Multiplication/Division(곱하기/나누기), Addition/Subtraction(더하기/빼기) 같은 니모닉으로 이것을 기억합니다.\n",
        "\n",
        "Python은 먼저 수행할 계산에 대해 유사한 규칙을 따릅니다.\n",
        "그들은 대부분 매우 직관적입니다.\n",
        "\"\"\"\n",
        "\"\"\"\"\"\""
      ]
    },
    {
      "cell_type": "code",
      "execution_count": null,
      "metadata": {
        "colab": {
          "base_uri": "https://localhost:8080/"
        },
        "id": "FwA8IfJMRPmA",
        "outputId": "16b7e2b3-4714-46c1-a4a2-6a48f0ec0a51"
      },
      "outputs": [
        {
          "output_type": "execute_result",
          "data": {
            "text/plain": [
              "7"
            ]
          },
          "metadata": {},
          "execution_count": 23
        }
      ],
      "source": [
        "8 - 3 + 2"
      ]
    },
    {
      "cell_type": "code",
      "execution_count": null,
      "metadata": {
        "colab": {
          "base_uri": "https://localhost:8080/"
        },
        "id": "zNyc-6UVRPmB",
        "outputId": "f3a4b0e6-8183-4e1f-ef2a-76aa46bb60a2"
      },
      "outputs": [
        {
          "output_type": "execute_result",
          "data": {
            "text/plain": [
              "5"
            ]
          },
          "metadata": {},
          "execution_count": 24
        }
      ],
      "source": [
        "-3 + 4 * 2"
      ]
    },
    {
      "cell_type": "code",
      "execution_count": null,
      "metadata": {
        "colab": {
          "base_uri": "https://localhost:8080/"
        },
        "id": "iLTC99PSRPmB",
        "outputId": "50f77cb7-54df-4a68-d800-75f69419592b"
      },
      "outputs": [
        {
          "output_type": "stream",
          "name": "stdout",
          "text": [
            "Height in meters = 26.9 ?\n"
          ]
        }
      ],
      "source": [
        "\"\"\"\n",
        "경우에 따라 기본 작업 순서가 우리가 원하는 것과 다를 수 있습니다.\n",
        "\"\"\"\n",
        "\n",
        "hat_height_cm = 25\n",
        "my_height_cm = 190\n",
        "# How tall am I, in meters, when wearing my hat?\n",
        "total_height_meters = hat_height_cm + my_height_cm / 100\n",
        "print(\"Height in meters =\", total_height_meters, \"?\")"
      ]
    },
    {
      "cell_type": "code",
      "execution_count": null,
      "metadata": {
        "colab": {
          "base_uri": "https://localhost:8080/"
        },
        "id": "v-ipW5uMRPmC",
        "outputId": "9ca4d994-3433-4164-b771-2b16984e8de3"
      },
      "outputs": [
        {
          "output_type": "stream",
          "name": "stdout",
          "text": [
            "Height in meters = 2.15\n"
          ]
        }
      ],
      "source": [
        "\"\"\"\n",
        "여기서 괄호가 유용합니다.\n",
        "그것들을 추가하여 Python이 원하는 순서로 하위 표현식을 평가하도록 할 수 있습니다.\n",
        "\"\"\"\n",
        "\n",
        "total_height_meters = (hat_height_cm + my_height_cm) / 100\n",
        "print(\"Height in meters =\", total_height_meters)"
      ]
    },
    {
      "cell_type": "code",
      "execution_count": null,
      "metadata": {
        "colab": {
          "base_uri": "https://localhost:8080/"
        },
        "id": "FUntObXvRPmC",
        "outputId": "995035a1-1aad-468b-bbd7-2b7b5383f543"
      },
      "outputs": [
        {
          "output_type": "stream",
          "name": "stdout",
          "text": [
            "1\n",
            "3\n"
          ]
        }
      ],
      "source": [
        "# 숫자 작업을 위한 내장 함수\n",
        "\"\"\"\n",
        "min과 max는 각각 인수의 최소값과 최대값을 반환합니다.\n",
        "\"\"\"\n",
        "\n",
        "print(min(1, 2, 3))\n",
        "print(max(1, 2, 3))"
      ]
    },
    {
      "cell_type": "code",
      "execution_count": null,
      "metadata": {
        "colab": {
          "base_uri": "https://localhost:8080/"
        },
        "id": "TDZZfiS-RPmC",
        "outputId": "e7ad4091-d52f-4de3-eb8d-f96c8f6a624a"
      },
      "outputs": [
        {
          "output_type": "stream",
          "name": "stdout",
          "text": [
            "32\n",
            "32\n"
          ]
        }
      ],
      "source": [
        "\"\"\"\n",
        "abs는 인수의 절대값을 반환합니다.\n",
        "\"\"\"\n",
        "\n",
        "print(abs(32))\n",
        "print(abs(-32))"
      ]
    },
    {
      "cell_type": "code",
      "execution_count": null,
      "metadata": {
        "colab": {
          "base_uri": "https://localhost:8080/"
        },
        "id": "pHcChpluRPmD",
        "outputId": "f62b1137-d7f5-4262-ccce-9ebd7f218f8d"
      },
      "outputs": [
        {
          "output_type": "stream",
          "name": "stdout",
          "text": [
            "10.0\n",
            "3\n",
            "808\n"
          ]
        }
      ],
      "source": [
        "\"\"\"\n",
        "Python의 두 가지 주요 숫자 유형의 이름인 것 외에도 int 및 float는 인수를 해당 유형으로 변환하는 함수로 호출할 수도 있습니다.\n",
        "\"\"\"\n",
        "\n",
        "print(float(10))\n",
        "print(int(3.33))\n",
        "# They can even be called on strings!\n",
        "print(int('807') + 1)"
      ]
    }
  ],
  "metadata": {
    "kernelspec": {
      "display_name": "Python 3",
      "language": "python",
      "name": "python3"
    },
    "language_info": {
      "codemirror_mode": {
        "name": "ipython",
        "version": 3
      },
      "file_extension": ".py",
      "mimetype": "text/x-python",
      "name": "python",
      "nbconvert_exporter": "python",
      "pygments_lexer": "ipython3",
      "version": "3.11.2"
    },
    "orig_nbformat": 4,
    "vscode": {
      "interpreter": {
        "hash": "22779186065cfbbb6d100dc370e05c47871f8cc15a1860e2ac7f74385b6d6011"
      }
    },
    "colab": {
      "provenance": [],
      "include_colab_link": true
    }
  },
  "nbformat": 4,
  "nbformat_minor": 0
}