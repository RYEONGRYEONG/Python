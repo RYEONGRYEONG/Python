{
  "cells": [
    {
      "cell_type": "markdown",
      "metadata": {
        "id": "view-in-github",
        "colab_type": "text"
      },
      "source": [
        "<a href=\"https://colab.research.google.com/github/RYEONGRYEONG/Python/blob/main/5_Loops_and_List_Comprehensions.ipynb\" target=\"_parent\"><img src=\"https://colab.research.google.com/assets/colab-badge.svg\" alt=\"Open In Colab\"/></a>"
      ]
    },
    {
      "cell_type": "code",
      "execution_count": null,
      "metadata": {
        "id": "ZHpy9tZIPJkm"
      },
      "outputs": [],
      "source": [
        "# 루프 및 리스트 이해\n",
        "    # For 루프와 while 루프, 많은 사랑을 받는 Python 기능: 리스트 내포"
      ]
    },
    {
      "cell_type": "code",
      "execution_count": null,
      "metadata": {
        "id": "7ttMMO_5PJkq",
        "outputId": "651c6871-75f1-44bd-de53-e114fe77f5e4",
        "colab": {
          "base_uri": "https://localhost:8080/"
        }
      },
      "outputs": [
        {
          "output_type": "stream",
          "name": "stdout",
          "text": [
            "Mercury Venus Earth Mars Jupiter Saturn Uranus Neptune "
          ]
        }
      ],
      "source": [
        "# 루프\n",
        "\"\"\"\n",
        "루프는 일부 코드를 반복적으로 실행하는 방법입니다.\n",
        "예를 들면 다음과 같습니다.\n",
        "\"\"\"\n",
        "\n",
        "planets = ['Mercury', 'Venus', 'Earth', 'Mars', 'Jupiter', 'Saturn', 'Uranus', 'Neptune']\n",
        "for planet in planets:\n",
        "    print(planet, end=' ') # print all on same line"
      ]
    },
    {
      "cell_type": "code",
      "execution_count": null,
      "metadata": {
        "id": "9tCVjBBqPJkt",
        "outputId": "da383d8d-6caf-4010-d714-fee11ee39ed2",
        "colab": {
          "base_uri": "https://localhost:8080/"
        }
      },
      "outputs": [
        {
          "output_type": "execute_result",
          "data": {
            "text/plain": [
              "360"
            ]
          },
          "metadata": {},
          "execution_count": 3
        }
      ],
      "source": [
        "\"\"\"\n",
        "for 루프는 다음을 지정합니다.\n",
        "\n",
        "    사용할 변수 이름(이 경우 planet)\n",
        "    반복할 값 세트(이 경우 planets)\n",
        "\n",
        "\"in\"이라는 단어를 사용하여 서로 연결합니다.\n",
        "\n",
        "\"in\" 오른쪽에 있는 개체는 반복을 지원하는 모든 개체가 될 수 있습니다.\n",
        "기본적으로 사물의 그룹으로 생각할 수 있는 경우 반복할 수 있습니다.\n",
        "목록 외에도 튜플의 요소를 반복할 수 있습니다.\n",
        "\"\"\"\n",
        "\n",
        "multiplicands = (2, 2, 2, 3, 3, 5)\n",
        "product = 1\n",
        "for mult in multiplicands:\n",
        "    product = product * mult\n",
        "product"
      ]
    },
    {
      "cell_type": "code",
      "execution_count": null,
      "metadata": {
        "id": "_YgHDdWFPJkv",
        "outputId": "9cf78d95-7e07-406b-9927-cc045cd45083",
        "colab": {
          "base_uri": "https://localhost:8080/"
        }
      },
      "outputs": [
        {
          "output_type": "stream",
          "name": "stdout",
          "text": [
            "HELLO"
          ]
        }
      ],
      "source": [
        "\"\"\"\n",
        "문자열의 각 문자를 반복할 수도 있습니다.\n",
        "\"\"\"\n",
        "\n",
        "s = 'steganograpHy is the practicE of conceaLing a file, message, image, or video within another fiLe, message, image, Or video.'\n",
        "msg = ''\n",
        "# print all the uppercase letters in s, one at a time\n",
        "for char in s:\n",
        "    if char.isupper():\n",
        "        print(char, end='')"
      ]
    },
    {
      "cell_type": "code",
      "execution_count": null,
      "metadata": {
        "id": "ASsn8DF1PJkw",
        "outputId": "fe0a9b33-5c5a-4e33-c6e5-48e7ac5f1c91",
        "colab": {
          "base_uri": "https://localhost:8080/"
        }
      },
      "outputs": [
        {
          "output_type": "stream",
          "name": "stdout",
          "text": [
            "Doing important work. i = 0\n",
            "Doing important work. i = 1\n",
            "Doing important work. i = 2\n",
            "Doing important work. i = 3\n",
            "Doing important work. i = 4\n"
          ]
        }
      ],
      "source": [
        "# range()\n",
        "\"\"\"\n",
        "range()는 일련의 숫자를 반환하는 함수입니다.\n",
        "루프 작성에 매우 유용합니다.\n",
        "\n",
        "예를 들어 어떤 작업을 5번 반복하려면 다음과 같이 하십시오.\n",
        "\"\"\"\n",
        "\n",
        "for i in range(5):\n",
        "    print(\"Doing important work. i =\", i)"
      ]
    },
    {
      "cell_type": "code",
      "execution_count": null,
      "metadata": {
        "id": "jpd6OMCcPJkx",
        "outputId": "3400e4a1-5ab7-431d-ebf6-4e7764689a76",
        "colab": {
          "base_uri": "https://localhost:8080/",
          "height": 35
        }
      },
      "outputs": [
        {
          "output_type": "stream",
          "name": "stdout",
          "text": [
            "0 1 2 3 4 5 6 7 8 9 "
          ]
        },
        {
          "output_type": "execute_result",
          "data": {
            "text/plain": [
              "''"
            ],
            "application/vnd.google.colaboratory.intrinsic+json": {
              "type": "string"
            }
          },
          "metadata": {},
          "execution_count": 28
        }
      ],
      "source": [
        "# while 루프\n",
        "\"\"\"\n",
        "Python의 다른 유형의 루프는 while 루프로, 일부 조건이 충족될 때까지 반복됩니다.\n",
        "\"\"\"\n",
        "\n",
        "i = 0\n",
        "while i < 10:\n",
        "    print(i, end=' ')\n",
        "    i += 1 # increase the value of i by 1\n",
        "\n",
        "\"\"\"\n",
        "while 루프의 인수는 부울 문으로 평가되며 문이 False로 평가될 때까지 루프가 실행됩니다.\n",
        "\"\"\"\n",
        "\"\"\"\"\"\""
      ]
    },
    {
      "cell_type": "code",
      "execution_count": null,
      "metadata": {
        "id": "voe_XUSaPJky",
        "outputId": "8629534c-7c62-40ff-99ce-39087e3d7ee0",
        "colab": {
          "base_uri": "https://localhost:8080/"
        }
      },
      "outputs": [
        {
          "output_type": "execute_result",
          "data": {
            "text/plain": [
              "[0, 1, 4, 9, 16, 25, 36, 49, 64, 81]"
            ]
          },
          "metadata": {},
          "execution_count": 29
        }
      ],
      "source": [
        "# 리스트 컴프리헨션\n",
        "\"\"\"\n",
        "List Comprehension은 Python의 가장 사랑받고 고유한 기능 중 하나입니다.\n",
        "이를 이해하는 가장 쉬운 방법은 아마도 몇 가지 예를 살펴보는 것일 것입니다.\n",
        "\"\"\"\n",
        "\n",
        "squares = [n**2 for n in range(10)]\n",
        "squares"
      ]
    },
    {
      "cell_type": "code",
      "execution_count": null,
      "metadata": {
        "id": "4S4ikj3HPJkz",
        "outputId": "6648cc0f-b9cb-4a94-f581-5ee4439379ec",
        "colab": {
          "base_uri": "https://localhost:8080/"
        }
      },
      "outputs": [
        {
          "output_type": "execute_result",
          "data": {
            "text/plain": [
              "[0, 1, 4, 9, 16, 25, 36, 49, 64, 81]"
            ]
          },
          "metadata": {},
          "execution_count": 30
        }
      ],
      "source": [
        "\"\"\"\n",
        "리스트 컴프리헨션 없이 동일한 작업을 수행하는 방법은 다음과 같습니다.\n",
        "\"\"\"\n",
        "\n",
        "squares = []\n",
        "for n in range(10):\n",
        "    squares.append(n**2)\n",
        "squares"
      ]
    },
    {
      "cell_type": "code",
      "execution_count": null,
      "metadata": {
        "id": "8d7PoS9sPJk1",
        "outputId": "8fd67ef9-8529-4a79-c028-18ddd47d41c1",
        "colab": {
          "base_uri": "https://localhost:8080/"
        }
      },
      "outputs": [
        {
          "output_type": "execute_result",
          "data": {
            "text/plain": [
              "['Venus', 'Earth', 'Mars']"
            ]
          },
          "metadata": {},
          "execution_count": 31
        }
      ],
      "source": [
        "\"\"\"\n",
        "if 조건을 추가할 수도 있습니다.\n",
        "\"\"\"\n",
        "\n",
        "short_planets = [planet for planet in planets if len(planet) < 6]\n",
        "short_planets"
      ]
    },
    {
      "cell_type": "code",
      "execution_count": null,
      "metadata": {
        "id": "nDSRgk1MPJk3",
        "outputId": "85dff7c0-0fef-41f4-ebac-a801cbbddcea",
        "colab": {
          "base_uri": "https://localhost:8080/"
        }
      },
      "outputs": [
        {
          "output_type": "execute_result",
          "data": {
            "text/plain": [
              "['VENUS!', 'EARTH!', 'MARS!']"
            ]
          },
          "metadata": {},
          "execution_count": 32
        }
      ],
      "source": [
        "\"\"\"\n",
        "(SQL에 익숙하다면 \"WHERE\" 절과 같다고 생각할 수 있습니다.)\n",
        "\n",
        "다음은 if 조건으로 필터링하고 일부 변환을 루프 변수에 적용하는 예입니다.\n",
        "\"\"\"\n",
        "\n",
        "# str.upper() returns an all-caps version of a string\n",
        "loud_short_planets = [planet.upper() + '!' for planet in planets if len(planet) < 6]\n",
        "loud_short_planets"
      ]
    },
    {
      "cell_type": "code",
      "execution_count": null,
      "metadata": {
        "id": "xx6hlG1EPJk4",
        "outputId": "4661f938-41a1-4eed-eb86-e0621318922a",
        "colab": {
          "base_uri": "https://localhost:8080/"
        }
      },
      "outputs": [
        {
          "output_type": "execute_result",
          "data": {
            "text/plain": [
              "['VENUS!', 'EARTH!', 'MARS!']"
            ]
          },
          "metadata": {},
          "execution_count": 33
        }
      ],
      "source": [
        "\"\"\"\n",
        "사람들은 일반적으로 한 줄에 작성하지만 세 줄로 나눌 때 구조가 더 명확하다는 것을 알 수 있습니다.\n",
        "\"\"\"\n",
        "\n",
        "[\n",
        "    planet.upper() + '!' \n",
        "    for planet in planets \n",
        "    if len(planet) < 6\n",
        "]"
      ]
    },
    {
      "cell_type": "code",
      "execution_count": null,
      "metadata": {
        "id": "FxoLtc1WPJk5",
        "outputId": "7eb4ac21-b213-4b9c-dddc-2e122b0c2523",
        "colab": {
          "base_uri": "https://localhost:8080/"
        }
      },
      "outputs": [
        {
          "output_type": "execute_result",
          "data": {
            "text/plain": [
              "[32, 32, 32, 32, 32, 32, 32, 32]"
            ]
          },
          "metadata": {},
          "execution_count": 34
        }
      ],
      "source": [
        "\"\"\"\n",
        "(SQL 비유를 계속하면 이 세 줄을 SELECT, FROM 및 WHERE로 생각할 수 있습니다.)\n",
        "\n",
        "왼쪽의 표현식은 기술적으로 루프 변수를 포함할 필요가 없습니다(그렇지 않은 경우는 매우 드문 일이지만).\n",
        "아래 표현이 무엇으로 평가될 것이라고 생각하십니까?\n",
        "'출력' 버튼을 눌러 확인하세요.\n",
        "\"\"\"\n",
        "\n",
        "[32 for planet in planets]"
      ]
    },
    {
      "cell_type": "code",
      "execution_count": null,
      "metadata": {
        "id": "v7e8lYssPJk6"
      },
      "outputs": [],
      "source": [
        "\"\"\"\n",
        "min, max 및 sum과 같은 함수와 결합된 리스트 컴프리헨션은 여러 줄의 코드가 필요한 문제에 대해 인상적인 한 줄 솔루션으로 이어질 수 있습니다.\n",
        "\n",
        "예를 들어 동일한 작업을 수행하는 다음 두 코드 셀을 비교합니다.\n",
        "\"\"\"\n",
        "\n",
        "def count_negatives(nums):\n",
        "    \"\"\"Return the number of negative numbers in the given list.\n",
        "    \n",
        "    >>> count_negatives([5, -1, -2, 0, 3])\n",
        "    2\n",
        "    \"\"\"\n",
        "    n_negative = 0\n",
        "    for num in nums:\n",
        "        if num < 0:\n",
        "            n_negative = n_negative + 1\n",
        "    return n_negative"
      ]
    },
    {
      "cell_type": "code",
      "execution_count": null,
      "metadata": {
        "id": "2hvU_HDlPJk7"
      },
      "outputs": [],
      "source": [
        "\"\"\"\n",
        "리스트 컴프리헨션을 사용하는 솔루션은 다음과 같습니다.\n",
        "\"\"\"\n",
        "\n",
        "def count_negatives(nums):\n",
        "    return len([num for num in nums if num < 0])"
      ]
    },
    {
      "cell_type": "code",
      "execution_count": null,
      "metadata": {
        "id": "KhKo2hp7PJk8"
      },
      "outputs": [],
      "source": [
        "\"\"\"\n",
        "훨씬 낫죠?\n",
        "\n",
        "우리가 관심 있는 모든 것이 코드 길이를 최소화하는 것이라면 이 세 번째 솔루션이 더 좋습니다!\n",
        "\"\"\"\n",
        "\n",
        "def count_negatives(nums):\n",
        "    # Reminder: in the \"booleans and conditionals\" exercises, we learned about a quirk of \n",
        "    # Python where it calculates something like True + True + False + True to be equal to 3.\n",
        "    return sum([num < 0 for num in nums]) '비교이므로 True False로 출력됨'"
      ]
    },
    {
      "cell_type": "code",
      "execution_count": null,
      "metadata": {
        "id": "J4DmuluuPJk8",
        "outputId": "7294ab6d-5907-408a-a1da-d143dbd10ac0",
        "colab": {
          "base_uri": "https://localhost:8080/",
          "height": 35
        }
      },
      "outputs": [
        {
          "output_type": "execute_result",
          "data": {
            "text/plain": [
              "''"
            ],
            "application/vnd.google.colaboratory.intrinsic+json": {
              "type": "string"
            }
          },
          "metadata": {},
          "execution_count": 40
        }
      ],
      "source": [
        "\"\"\"\n",
        "이러한 솔루션 중 \"최고\"인 솔루션은 전적으로 주관적입니다.\n",
        "더 적은 코드로 문제를 해결하는 것은 항상 좋지만 The Zen of Python의 다음 줄을 명심할 가치가 있습니다.\n",
        "\n",
        "    가독성이 중요합니다.\n",
        "    명시적인 것이 암시적인 것보다 낫습니다.\n",
        "\n",
        "따라서 이러한 도구를 사용하여 읽기 쉬운 소형 프로그램을 만드십시오.\n",
        "그러나 선택해야 할 때는 다른 사람들이 이해하기 쉬운 코드를 선호하십시오.\n",
        "\"\"\"\n",
        "\"\"\"\"\"\""
      ]
    }
  ],
  "metadata": {
    "kernelspec": {
      "display_name": "Python 3",
      "language": "python",
      "name": "python3"
    },
    "language_info": {
      "codemirror_mode": {
        "name": "ipython",
        "version": 3
      },
      "file_extension": ".py",
      "mimetype": "text/x-python",
      "name": "python",
      "nbconvert_exporter": "python",
      "pygments_lexer": "ipython3",
      "version": "3.11.2"
    },
    "orig_nbformat": 4,
    "colab": {
      "provenance": [],
      "include_colab_link": true
    }
  },
  "nbformat": 4,
  "nbformat_minor": 0
}